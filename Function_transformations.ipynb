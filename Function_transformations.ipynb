{
  "nbformat": 4,
  "nbformat_minor": 0,
  "metadata": {
    "celltoolbar": "Raw Cell Format",
    "kernelspec": {
      "display_name": "Python 3",
      "language": "python",
      "name": "python3"
    },
    "language_info": {
      "codemirror_mode": {
        "name": "ipython",
        "version": 3
      },
      "file_extension": ".py",
      "mimetype": "text/x-python",
      "name": "python",
      "nbconvert_exporter": "python",
      "pygments_lexer": "ipython3",
      "version": "3.5.4"
    },
    "colab": {
      "name": "Function_transformations.ipynb",
      "provenance": [],
      "collapsed_sections": [
        "KcCv9EE3p9tL",
        "igltPNOqp9tL"
      ],
      "include_colab_link": true
    }
  },
  "cells": [
    {
      "cell_type": "markdown",
      "metadata": {
        "id": "view-in-github",
        "colab_type": "text"
      },
      "source": [
        "<a href=\"https://colab.research.google.com/github/lauraazzimonti/teaching/blob/master/Function_transformations.ipynb\" target=\"_parent\"><img src=\"https://colab.research.google.com/assets/colab-badge.svg\" alt=\"Open In Colab\"/></a>"
      ]
    },
    {
      "cell_type": "markdown",
      "metadata": {
        "id": "Vfwz5gb9p9tK"
      },
      "source": [
        "# Function transformations"
      ]
    },
    {
      "cell_type": "markdown",
      "metadata": {
        "id": "8taLByU1p9tK"
      },
      "source": [
        "<a href=\"https://colab.research.google.com/github/lauraazzimonti/teaching/blob/master/Trasformazioni_funzioni.ipynb\" target=\"_parent\"><img src=\"https://colab.research.google.com/assets/colab-badge.svg\" alt=\"Open In Colab\"/></a>"
      ]
    },
    {
      "cell_type": "markdown",
      "metadata": {
        "id": "DZz7st4ip9tK"
      },
      "source": [
        "##Python basics"
      ]
    },
    {
      "cell_type": "markdown",
      "metadata": {
        "id": "IYKp8Z9Dp9tK"
      },
      "source": [
        "We define the function $f(x)=\\ln(x)$ by means of \"np.log\"."
      ]
    },
    {
      "cell_type": "code",
      "metadata": {
        "id": "DSwevdSjp9tK"
      },
      "source": [
        "import numpy as np\n",
        "\n",
        "def f(x):\n",
        "    y=np.log(x)\n",
        "    return y"
      ],
      "execution_count": null,
      "outputs": []
    },
    {
      "cell_type": "markdown",
      "metadata": {
        "id": "-kkx36nap9tK"
      },
      "source": [
        "We evaluate the function $f$ in a point:"
      ]
    },
    {
      "cell_type": "code",
      "metadata": {
        "id": "byRn3QBmp9tK"
      },
      "source": [
        "f(1)"
      ],
      "execution_count": null,
      "outputs": []
    },
    {
      "cell_type": "markdown",
      "metadata": {
        "id": "_4t3kHQ8p9tK"
      },
      "source": [
        "We evaluate the function $f$ in different points:"
      ]
    },
    {
      "cell_type": "code",
      "metadata": {
        "id": "VUkDV8zBp9tK"
      },
      "source": [
        "for x in [0,1,10]:\n",
        "    y=f(x)\n",
        "    print(x,y)"
      ],
      "execution_count": null,
      "outputs": []
    },
    {
      "cell_type": "markdown",
      "metadata": {
        "id": "gJ0_FXjap9tK"
      },
      "source": [
        "We sketch the graph of the function $f$:"
      ]
    },
    {
      "cell_type": "code",
      "metadata": {
        "id": "dOk7WXN0p9tK"
      },
      "source": [
        "import matplotlib.pyplot as plt\n",
        "\n",
        "x_vec=np.linspace(0,10,101)\n",
        "y_vec=[]\n",
        "for x in x_vec:\n",
        "    y_vec.append(f(x))\n",
        "\n",
        "print(x_vec)\n",
        "print(y_vec)"
      ],
      "execution_count": null,
      "outputs": []
    },
    {
      "cell_type": "code",
      "metadata": {
        "id": "ds10k2Swp9tL"
      },
      "source": [
        "fig, ax = plt.subplots(figsize=(8, 6))\n",
        "ax.plot(x_vec,y_vec,\"b\")\n",
        "ax.set_xlabel('x')\n",
        "ax.set_ylabel('y')\n",
        "ax.grid(True)\n",
        "plt.show()"
      ],
      "execution_count": null,
      "outputs": []
    },
    {
      "cell_type": "markdown",
      "metadata": {
        "id": "ayCHEkdpp9tL"
      },
      "source": [
        "We define a function to sketch the graph of a function:"
      ]
    },
    {
      "cell_type": "code",
      "metadata": {
        "id": "i1FwOt8bp9tL"
      },
      "source": [
        "def plot(f):\n",
        "    xmin=-10\n",
        "    xmax=10\n",
        "    x_vec=np.linspace(xmin,xmax,101)\n",
        "    y_vec=[]\n",
        "    for x in x_vec:\n",
        "        y_vec.append(f(x))\n",
        "    fig, ax = plt.subplots(figsize=(8, 6))\n",
        "    ax.plot(x_vec, y_vec,\"b\")\n",
        "    ax.set(xlabel='x',ylabel='y')\n",
        "    ax.axhline(y=0,color=\"k\")\n",
        "    ax.axvline(x=0,color=\"k\")\n",
        "    ax.grid(True)\n",
        "    plt.show()\n",
        "\n",
        "plot(f)"
      ],
      "execution_count": null,
      "outputs": []
    },
    {
      "cell_type": "code",
      "metadata": {
        "id": "vJTArufhp9tL"
      },
      "source": [
        "def multi_plot(f_blue, f_red, xmin=-10, xmax=10, ymin=-5, ymax=5):\n",
        "    x_vec=np.linspace(xmin,xmax,1001)\n",
        "    y_blue_vec=[]\n",
        "    y_red_vec=[]\n",
        "    for x in x_vec:\n",
        "        y_blue_vec.append(f_blue(x))\n",
        "        y_red_vec.append(f_red(x))\n",
        "    fig, ax = plt.subplots(figsize=(10, 5))\n",
        "    ax.plot(x_vec, y_blue_vec,\"b\", x_vec, y_red_vec, \"r\")\n",
        "    ax.set(xlabel='x',ylabel='y', xlim=[xmin,xmax],ylim=[ymin,ymax])\n",
        "    ax.set_xticks(np.arange(xmin,xmax,1)) \n",
        "    ax.set_yticks(np.arange(ymin,ymax,1)) \n",
        "    ax.axhline(y=0,color=\"k\")\n",
        "    ax.axvline(x=0,color=\"k\")\n",
        "    ax.grid(True)\n",
        "    plt.gca().set_aspect('equal', adjustable='box')\n",
        "    plt.show()\n",
        "\n",
        "def g(x):\n",
        "    y=np.exp(x)\n",
        "    return y \n",
        "\n",
        "multi_plot(f_blue=f,f_red=g,xmin=-2,xmax=5, ymin=-2, ymax=5)"
      ],
      "execution_count": null,
      "outputs": []
    },
    {
      "cell_type": "markdown",
      "metadata": {
        "id": "0ufBQhDbp9tL"
      },
      "source": [
        "## Reflections"
      ]
    },
    {
      "cell_type": "markdown",
      "metadata": {
        "id": "piRjI2iOp9tL"
      },
      "source": [
        "### a) Reflection with respect to the x-axis:"
      ]
    },
    {
      "cell_type": "markdown",
      "metadata": {
        "id": "Mk3kwpTUp9tL"
      },
      "source": [
        "Write a function $\\text{Rx}$ whose graph corresponds to the graph of $f$ reflected in the x-axis."
      ]
    },
    {
      "cell_type": "code",
      "metadata": {
        "id": "eMsZRskdp9tL"
      },
      "source": [
        "def Rx(x):\n",
        "    y=-f(x)\n",
        "    return y\n",
        "\n",
        "multi_plot(f,Rx)"
      ],
      "execution_count": null,
      "outputs": []
    },
    {
      "cell_type": "markdown",
      "metadata": {
        "id": "_lAg9DQMp9tL"
      },
      "source": [
        "### b) Reflection with respect to the y-axis:"
      ]
    },
    {
      "cell_type": "markdown",
      "metadata": {
        "id": "kxDWwx9sp9tL"
      },
      "source": [
        "Write a function $\\text{Ry}$ whose graph corresponds to the graph of $f$ reflected in the y-axis."
      ]
    },
    {
      "cell_type": "code",
      "metadata": {
        "id": "y6pEK4ebp9tL"
      },
      "source": [
        "#def Ry(x):\n",
        "#    y=\n",
        "#    return y\n",
        "\n",
        "#multi_plot(f,Ry)"
      ],
      "execution_count": null,
      "outputs": []
    },
    {
      "cell_type": "markdown",
      "metadata": {
        "id": "gvfT1c7ep9tL"
      },
      "source": [
        "### c) Reflection with respect to the origin O=(0;0):"
      ]
    },
    {
      "cell_type": "markdown",
      "metadata": {
        "id": "nhcmEmM9p9tL"
      },
      "source": [
        "Write a function $\\text{Ro}$ whose graph corresponds to the graph of $f$ reflected in the origin."
      ]
    },
    {
      "cell_type": "code",
      "metadata": {
        "id": "CxJfjs-ep9tL"
      },
      "source": [
        "#def Ro(x):\n",
        "#    y=\n",
        "#    return y\n",
        "\n",
        "#multi_plot(f,Ro)"
      ],
      "execution_count": null,
      "outputs": []
    },
    {
      "cell_type": "markdown",
      "metadata": {
        "id": "oVc6tB8Kp9tL"
      },
      "source": [
        "## Shifts"
      ]
    },
    {
      "cell_type": "markdown",
      "metadata": {
        "id": "bqPgzoVIp9tL"
      },
      "source": [
        "### a) Vertical shift"
      ]
    },
    {
      "cell_type": "markdown",
      "metadata": {
        "id": "m93Q51K6p9tL"
      },
      "source": [
        "Write a function $\\text{Sy1}$ whose graph corresponds to the graph of $f$ shifted upward of 2 units."
      ]
    },
    {
      "cell_type": "code",
      "metadata": {
        "id": "pR76gSHPp9tL"
      },
      "source": [
        ""
      ],
      "execution_count": null,
      "outputs": []
    },
    {
      "cell_type": "markdown",
      "metadata": {
        "id": "90ZV1xdkp9tL"
      },
      "source": [
        "Write a function $\\text{Sy2}$ whose graph corresponds to the graph of $f$ shifted downward of 3 units."
      ]
    },
    {
      "cell_type": "code",
      "metadata": {
        "id": "nnUFsB_up9tL"
      },
      "source": [
        ""
      ],
      "execution_count": null,
      "outputs": []
    },
    {
      "cell_type": "markdown",
      "metadata": {
        "id": "N8oxlJitp9tL"
      },
      "source": [
        "Write a function $\\text{Sy}$ whose graph corresponds to the graph of $f$ shifted upward or downward of $k$ units, where $k \\in \\mathbb{R}$."
      ]
    },
    {
      "cell_type": "code",
      "metadata": {
        "id": "8Cj_G04Op9tL"
      },
      "source": [
        "#k=\n",
        "#def Sy(x):\n",
        "#    y=\n",
        "#    return y\n",
        "\n",
        "#multi_plot(f,Sy)"
      ],
      "execution_count": null,
      "outputs": []
    },
    {
      "cell_type": "markdown",
      "metadata": {
        "id": "H2HiB_HIp9tL"
      },
      "source": [
        "### b) Horizontal shift"
      ]
    },
    {
      "cell_type": "markdown",
      "metadata": {
        "id": "SqqQab5sp9tL"
      },
      "source": [
        "Write a function $\\text{Sx1}$ whose graph corresponds to the graph of $f$ shifted to the right of 1 unit."
      ]
    },
    {
      "cell_type": "code",
      "metadata": {
        "id": "SEiCRIRjp9tL"
      },
      "source": [
        ""
      ],
      "execution_count": null,
      "outputs": []
    },
    {
      "cell_type": "markdown",
      "metadata": {
        "id": "pzMmogqup9tL"
      },
      "source": [
        "Write a function $\\text{Sx2}$ whose graph corresponds to the graph of $f$ shifted to the left of 2 units."
      ]
    },
    {
      "cell_type": "code",
      "metadata": {
        "id": "2MBdbfjEp9tL"
      },
      "source": [
        ""
      ],
      "execution_count": null,
      "outputs": []
    },
    {
      "cell_type": "markdown",
      "metadata": {
        "id": "TqG7DI7pp9tL"
      },
      "source": [
        "Write a function $\\text{Sx}$ whose graph corresponds to the graph of $f$ shifted to the right or to the left of $h$ units, where $h \\in \\mathbb{R}$."
      ]
    },
    {
      "cell_type": "code",
      "metadata": {
        "id": "rqdTH02op9tL"
      },
      "source": [
        ""
      ],
      "execution_count": null,
      "outputs": []
    },
    {
      "cell_type": "markdown",
      "metadata": {
        "id": "zZh8OwKRp9tL"
      },
      "source": [
        "## c) Combining vertical and horizontal shifts"
      ]
    },
    {
      "cell_type": "markdown",
      "metadata": {
        "id": "6LJunHFYp9tL"
      },
      "source": [
        "Write a function $\\text{Sxy1}$ whose graph corresponds to the graph of $f$ shifted of vector $v=(1,3)$."
      ]
    },
    {
      "cell_type": "code",
      "metadata": {
        "id": "fkZMUW_Up9tL"
      },
      "source": [
        ""
      ],
      "execution_count": null,
      "outputs": []
    },
    {
      "cell_type": "markdown",
      "metadata": {
        "id": "9x7s9uoSp9tL"
      },
      "source": [
        "Write a function $\\text{Sxy}$ whose graph corresponds to the graph of $f$ shifted of vector $v=(h,k)$, where $h, k \\in \\mathbb{R}$.\n"
      ]
    },
    {
      "cell_type": "code",
      "metadata": {
        "id": "XROyTyXup9tL"
      },
      "source": [
        ""
      ],
      "execution_count": null,
      "outputs": []
    },
    {
      "cell_type": "markdown",
      "metadata": {
        "id": "lmoDu6wsp9tL"
      },
      "source": [
        "## Exercise 1"
      ]
    },
    {
      "cell_type": "markdown",
      "metadata": {
        "id": "UjAAlVf8p9tL"
      },
      "source": [
        "a) Define a new function $f$, as $f(x)=|x|$, by using \"np.abs\" for the absolute value.\n",
        "\n",
        "Apply all the previous transformations to check the effect on the new function."
      ]
    },
    {
      "cell_type": "code",
      "metadata": {
        "id": "WxiWNbGcp9tL"
      },
      "source": [
        ""
      ],
      "execution_count": null,
      "outputs": []
    },
    {
      "cell_type": "markdown",
      "metadata": {
        "id": "mWmEWro5p9tL"
      },
      "source": [
        "b) Sketch the plot of the function $g(x)=|x+3|-4$ by shifting properly the graph of $f(x)$."
      ]
    },
    {
      "cell_type": "code",
      "metadata": {
        "id": "mvSzD3KXp9tL"
      },
      "source": [
        ""
      ],
      "execution_count": null,
      "outputs": []
    },
    {
      "cell_type": "markdown",
      "metadata": {
        "collapsed": true,
        "id": "KIhTDoE5p9tL"
      },
      "source": [
        "## Dilatazioni"
      ]
    },
    {
      "cell_type": "markdown",
      "metadata": {
        "id": "KcCv9EE3p9tL"
      },
      "source": [
        "### a) Dilatazione verticale"
      ]
    },
    {
      "cell_type": "markdown",
      "metadata": {
        "id": "UBRGxdItp9tL"
      },
      "source": [
        "Definire una funzione $\\text{Dy1}$ che sia dilatata verticalmente di 2 rispetto alla funzione $f=\\ln(x)$."
      ]
    },
    {
      "cell_type": "code",
      "metadata": {
        "collapsed": true,
        "id": "Uun7aXugp9tL"
      },
      "source": [
        "def f(x):\n",
        "    y=np.log(x)\n",
        "    return y\n",
        "\n"
      ],
      "execution_count": null,
      "outputs": []
    },
    {
      "cell_type": "markdown",
      "metadata": {
        "id": "rjA2ZVSQp9tL"
      },
      "source": [
        "Definire una funzione $\\text{Dy2}$ che sia compressa verticalmente di 2 rispetto alla funzione $f$."
      ]
    },
    {
      "cell_type": "code",
      "metadata": {
        "collapsed": true,
        "id": "O5DYWHdZp9tL"
      },
      "source": [
        ""
      ],
      "execution_count": null,
      "outputs": []
    },
    {
      "cell_type": "markdown",
      "metadata": {
        "id": "dYo0hXYGp9tL"
      },
      "source": [
        "Definire una funzione $\\text{Dy}$ che sia dilatata o compressa verticalmente di $a$, con $a \\in \\mathbb{R}$, rispetto alla funzione $f$. "
      ]
    },
    {
      "cell_type": "code",
      "metadata": {
        "collapsed": true,
        "id": "BkUbQUkmp9tL"
      },
      "source": [
        ""
      ],
      "execution_count": null,
      "outputs": []
    },
    {
      "cell_type": "markdown",
      "metadata": {
        "id": "igltPNOqp9tL"
      },
      "source": [
        "### b) Dilatazione orizzontale"
      ]
    },
    {
      "cell_type": "markdown",
      "metadata": {
        "id": "dejzirZwp9tL"
      },
      "source": [
        "Definire una funzione $\\text{Dx1}$ che sia dilatata orizzontalmente di 3 rispetto alla funzione $f$."
      ]
    },
    {
      "cell_type": "code",
      "metadata": {
        "collapsed": true,
        "id": "S2rClnbFp9tL"
      },
      "source": [
        ""
      ],
      "execution_count": null,
      "outputs": []
    },
    {
      "cell_type": "markdown",
      "metadata": {
        "id": "nQuQQ27Pp9tL"
      },
      "source": [
        "Definire una funzione $\\text{Dx2}$ che sia compressa orizzontalmente di 3 rispetto alla funzione $f$."
      ]
    },
    {
      "cell_type": "code",
      "metadata": {
        "collapsed": true,
        "id": "KiMV9z8Rp9tL"
      },
      "source": [
        ""
      ],
      "execution_count": null,
      "outputs": []
    },
    {
      "cell_type": "markdown",
      "metadata": {
        "id": "P7vjIgn6p9tL"
      },
      "source": [
        "Definire una funzione $\\text{Dx}$ che sia dilatata o compressa orizzontalmente di $b$, con $b \\in \\mathbb{R}$, rispetto alla funzione $f$. "
      ]
    },
    {
      "cell_type": "code",
      "metadata": {
        "collapsed": true,
        "id": "zQyFhuykp9tL"
      },
      "source": [
        ""
      ],
      "execution_count": null,
      "outputs": []
    },
    {
      "cell_type": "markdown",
      "metadata": {
        "id": "i3C_5m3mp9tL"
      },
      "source": [
        "## Esercizio 2"
      ]
    },
    {
      "cell_type": "markdown",
      "metadata": {
        "id": "jTR2yHuEp9tL"
      },
      "source": [
        "Cambiare la funzione $f$ in modo che sia ora definita come $f(x)=|x|-2$, usando \"np.abs\" per calcolare il valore assoluto.\n",
        "\n",
        "Effettuare tutte le dilatazioni viste in precedenza per verificarne l'effetto sulla funzione."
      ]
    },
    {
      "cell_type": "code",
      "metadata": {
        "id": "Mrdp5Eadp9tL"
      },
      "source": [
        ""
      ],
      "execution_count": null,
      "outputs": []
    },
    {
      "cell_type": "markdown",
      "metadata": {
        "id": "btGlVwH4p9tL"
      },
      "source": [
        "Che effetto hanno le dilatazioni sulle intersezioni della funzione con gli assi?"
      ]
    },
    {
      "cell_type": "markdown",
      "metadata": {
        "id": "VXdA4MQop9tL"
      },
      "source": [
        ""
      ]
    },
    {
      "cell_type": "markdown",
      "metadata": {
        "id": "8jyMCoq1p9tL"
      },
      "source": [
        "## Esercizio 3"
      ]
    },
    {
      "cell_type": "markdown",
      "metadata": {
        "id": "pf5WXeFGp9tL"
      },
      "source": [
        "Disegnare il grafico della funzione $g(x)=\\frac{1}{2}\\sqrt{4-2x}$ applicando una sequenza di trasformazioni alla funzione $f(x)=\\sqrt{x}$. Usare \"np.sqrt\" per calcolare la radice quadrata."
      ]
    },
    {
      "cell_type": "code",
      "metadata": {
        "id": "hhEPS8mdp9tL"
      },
      "source": [
        "#def f(x):\n",
        "#    y=\n",
        "#    return y\n",
        "\n",
        "#def g1(x):\n",
        "#    y=\n",
        "#    return y\n",
        "\n",
        "#def g2(x):\n",
        "#    y=\n",
        "#    return y\n",
        "\n",
        "#def g3(x):\n",
        "#    y=\n",
        "#    return y\n",
        "\n",
        "#def g(x):\n",
        "#    y=\n",
        "#    return y\n",
        " \n",
        "#multi_plot(f,g1)\n",
        "#multi_plot(f,g2)\n",
        "#multi_plot(f,g3)\n",
        "#multi_plot(f,g)  "
      ],
      "execution_count": null,
      "outputs": []
    },
    {
      "cell_type": "code",
      "metadata": {
        "id": "R0-ifZ8ap9tL"
      },
      "source": [
        ""
      ],
      "execution_count": null,
      "outputs": []
    }
  ]
}