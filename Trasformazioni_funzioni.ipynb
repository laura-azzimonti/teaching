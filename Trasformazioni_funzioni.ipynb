{
 "cells": [
  {
   "cell_type": "markdown",
   "metadata": {},
   "source": [
    "# Trasformazioni di funzioni"
   ]
  },
  {
   "cell_type": "markdown",
   "metadata": {},
   "source": [
    "<a href=\"https://colab.research.google.com/github/lauraazzimonti/teaching/blob/master/Trasformazioni_funzioni.ipynb\" target=\"_parent\"><img src=\"https://colab.research.google.com/assets/colab-badge.svg\" alt=\"Open In Colab\"/></a>"
   ]
  },
  {
   "cell_type": "markdown",
   "metadata": {},
   "source": [
    "## Basi Python"
   ]
  },
  {
   "cell_type": "markdown",
   "metadata": {},
   "source": [
    "Definiamo la funzione $f(x)=\\log(x)$."
   ]
  },
  {
   "cell_type": "code",
   "execution_count": null,
   "metadata": {
    "collapsed": false
   },
   "outputs": [],
   "source": [
    "import numpy as np\n",
    "\n",
    "def f(x):\n",
    "    y=np.log(x)\n",
    "    return y"
   ]
  },
  {
   "cell_type": "markdown",
   "metadata": {},
   "source": [
    "Possiamo valutare la funzione $f$ in un punto:"
   ]
  },
  {
   "cell_type": "code",
   "execution_count": null,
   "metadata": {
    "collapsed": false
   },
   "outputs": [],
   "source": [
    "f(1)"
   ]
  },
  {
   "cell_type": "markdown",
   "metadata": {},
   "source": [
    "Possiamo valutare la funzione $f$ in più punti:"
   ]
  },
  {
   "cell_type": "code",
   "execution_count": null,
   "metadata": {
    "collapsed": false
   },
   "outputs": [],
   "source": [
    "for x in [0,1,10]:\n",
    "    y=f(x)\n",
    "    print(x,y)"
   ]
  },
  {
   "cell_type": "markdown",
   "metadata": {},
   "source": [
    "Possiamo disegnare il grafico della funzione $f$:"
   ]
  },
  {
   "cell_type": "code",
   "execution_count": null,
   "metadata": {
    "collapsed": false
   },
   "outputs": [],
   "source": [
    "import matplotlib.pyplot as plt\n",
    "\n",
    "x_vec=np.linspace(0,10,101)\n",
    "y_vec=[]\n",
    "for x in x_vec:\n",
    "    y_vec.append(f(x))\n",
    "\n",
    "print(x_vec)\n",
    "print(y_vec)"
   ]
  },
  {
   "cell_type": "code",
   "execution_count": null,
   "metadata": {
    "collapsed": false
   },
   "outputs": [],
   "source": [
    "fig, ax = plt.subplots(figsize=(8, 6))\n",
    "ax.plot(x_vec,y_vec,\"b\")\n",
    "ax.set_xlabel('x')\n",
    "ax.set_ylabel('y')\n",
    "ax.grid(True)\n",
    "plt.show()"
   ]
  },
  {
   "cell_type": "markdown",
   "metadata": {},
   "source": [
    "Possiamo creare una funzione per disegnare il grafico di una funzione:"
   ]
  },
  {
   "cell_type": "code",
   "execution_count": null,
   "metadata": {
    "collapsed": false
   },
   "outputs": [],
   "source": [
    "def plot(f):\n",
    "    xmin=-10\n",
    "    xmax=10\n",
    "    x_vec=np.linspace(xmin,xmax,101)\n",
    "    y_vec=[]\n",
    "    for x in x_vec:\n",
    "        y_vec.append(f(x))\n",
    "    fig, ax = plt.subplots(figsize=(8, 6))\n",
    "    ax.plot(x_vec, y_vec,\"b\")\n",
    "    ax.set(xlabel='x',ylabel='y')\n",
    "    ax.axhline(y=0,color=\"k\")\n",
    "    ax.axvline(x=0,color=\"k\")\n",
    "    ax.grid(True)\n",
    "    plt.show()\n",
    "\n",
    "plot(f)"
   ]
  },
  {
   "cell_type": "code",
   "execution_count": null,
   "metadata": {
    "collapsed": false
   },
   "outputs": [],
   "source": [
    "def multi_plot(f_blue, f_red, xmin=-10, xmax=10, ymin=-5, ymax=5):\n",
    "    x_vec=np.linspace(xmin,xmax,1001)\n",
    "    y_blue_vec=[]\n",
    "    y_red_vec=[]\n",
    "    for x in x_vec:\n",
    "        y_blue_vec.append(f_blue(x))\n",
    "        y_red_vec.append(f_red(x))\n",
    "    fig, ax = plt.subplots(figsize=(10, 5))\n",
    "    ax.plot(x_vec, y_blue_vec,\"b\", x_vec, y_red_vec, \"r\")\n",
    "    ax.set(xlabel='x',ylabel='y', xlim=[xmin,xmax],ylim=[ymin,ymax])\n",
    "    ax.set_xticks(np.arange(xmin,xmax,1)) \n",
    "    ax.set_yticks(np.arange(ymin,ymax,1)) \n",
    "    ax.axhline(y=0,color=\"k\")\n",
    "    ax.axvline(x=0,color=\"k\")\n",
    "    ax.grid(True)\n",
    "    plt.gca().set_aspect('equal', adjustable='box')\n",
    "    plt.show()\n",
    "\n",
    "def g(x):\n",
    "    y=np.exp(x)\n",
    "    return y \n",
    "\n",
    "multi_plot(f_blue=f,f_red=g,xmin=-2,xmax=5, ymin=-2, ymax=5)"
   ]
  },
  {
   "cell_type": "markdown",
   "metadata": {},
   "source": [
    "## Simmetrie"
   ]
  },
  {
   "cell_type": "markdown",
   "metadata": {},
   "source": [
    "### a) Simmetria rispetto all'asse delle x:"
   ]
  },
  {
   "cell_type": "markdown",
   "metadata": {},
   "source": [
    "Definiamo una funzione $\\text{Sx}$ che sia simmetrica rispetto all'asse delle x della funzione $f$."
   ]
  },
  {
   "cell_type": "code",
   "execution_count": null,
   "metadata": {
    "collapsed": false
   },
   "outputs": [],
   "source": [
    "def Sx(x):\n",
    "    y=-f(x)\n",
    "    return y\n",
    "\n",
    "multi_plot(f,Sx)"
   ]
  },
  {
   "cell_type": "markdown",
   "metadata": {},
   "source": [
    "### b) Simmetria rispetto all'asse delle y:"
   ]
  },
  {
   "cell_type": "markdown",
   "metadata": {},
   "source": [
    "Definire una funzione $\\text{Sy}$ che sia simmetrica rispetto all'asse delle y della funzione $f$."
   ]
  },
  {
   "cell_type": "code",
   "execution_count": null,
   "metadata": {
    "collapsed": false
   },
   "outputs": [],
   "source": [
    "#def Sy(x):\n",
    "#    y=\n",
    "#    return y\n",
    "\n",
    "#multi_plot(f,Sy)"
   ]
  },
  {
   "cell_type": "markdown",
   "metadata": {},
   "source": [
    "### c) Simmetria rispetto all'origine:"
   ]
  },
  {
   "cell_type": "markdown",
   "metadata": {},
   "source": [
    "Definire una funzione $\\text{So}$ che sia simmetrica rispetto all'origine della funzione $f$."
   ]
  },
  {
   "cell_type": "code",
   "execution_count": null,
   "metadata": {
    "collapsed": false
   },
   "outputs": [],
   "source": [
    "#def So(x):\n",
    "#    y=\n",
    "#    return y\n",
    "\n",
    "#multi_plot(f,So)"
   ]
  },
  {
   "cell_type": "markdown",
   "metadata": {},
   "source": [
    "## Traslazioni"
   ]
  },
  {
   "cell_type": "markdown",
   "metadata": {},
   "source": [
    "### a) Traslazione verticale"
   ]
  },
  {
   "cell_type": "markdown",
   "metadata": {},
   "source": [
    "Definire una funzione $\\text{Ty1}$ che sia traslata verso l'alto di 2 rispetto alla funzione $f$."
   ]
  },
  {
   "cell_type": "code",
   "execution_count": null,
   "metadata": {
    "collapsed": true
   },
   "outputs": [],
   "source": []
  },
  {
   "cell_type": "markdown",
   "metadata": {},
   "source": [
    "Definire una funzione $\\text{Ty2}$ che sia traslata verso il basso di 3 rispetto alla funzione $f$."
   ]
  },
  {
   "cell_type": "code",
   "execution_count": null,
   "metadata": {
    "collapsed": true
   },
   "outputs": [],
   "source": []
  },
  {
   "cell_type": "markdown",
   "metadata": {},
   "source": [
    "Definire una funzione $\\text{Ty}$ che sia traslata verso l'alto o il basso di $k$, con $k \\in \\mathbb{R}$, rispetto alla funzione $f$. "
   ]
  },
  {
   "cell_type": "code",
   "execution_count": null,
   "metadata": {
    "collapsed": true
   },
   "outputs": [],
   "source": [
    "#k=\n",
    "#def Ty(x):\n",
    "#    y=\n",
    "#    return y\n",
    "\n",
    "#multi_plot(f,Ty)"
   ]
  },
  {
   "cell_type": "markdown",
   "metadata": {},
   "source": [
    "## b) Traslazione orizzontale"
   ]
  },
  {
   "cell_type": "markdown",
   "metadata": {},
   "source": [
    "Definire una funzione $\\text{Tx1}$ che sia traslata verso destra di 1 rispetto alla funzione $f$."
   ]
  },
  {
   "cell_type": "code",
   "execution_count": null,
   "metadata": {
    "collapsed": true
   },
   "outputs": [],
   "source": []
  },
  {
   "cell_type": "markdown",
   "metadata": {},
   "source": [
    "Definire una funzione $\\text{Tx2}$ che sia traslata verso sinistra di 2 rispetto alla funzione $f$."
   ]
  },
  {
   "cell_type": "code",
   "execution_count": null,
   "metadata": {
    "collapsed": true
   },
   "outputs": [],
   "source": []
  },
  {
   "cell_type": "markdown",
   "metadata": {},
   "source": [
    "Definire una funzione $\\text{Tx}$ che sia traslata verso destra o sinistra di $h$, con $h \\in \\mathbb{R}$, rispetto alla funzione $f$."
   ]
  },
  {
   "cell_type": "code",
   "execution_count": null,
   "metadata": {
    "collapsed": true
   },
   "outputs": [],
   "source": []
  },
  {
   "cell_type": "markdown",
   "metadata": {},
   "source": [
    "## c) Traslazione di un vettore $v=(h,k)$"
   ]
  },
  {
   "cell_type": "markdown",
   "metadata": {},
   "source": [
    "Definire una funzione $\\text{Txy1}$ che sia traslata di un vettore  $v=(1,3)$ rispetto alla funzione $f$."
   ]
  },
  {
   "cell_type": "code",
   "execution_count": null,
   "metadata": {
    "collapsed": true
   },
   "outputs": [],
   "source": []
  },
  {
   "cell_type": "markdown",
   "metadata": {},
   "source": [
    "Definire una funzione $\\text{Txy}$ che sia traslata di un vettore  $v=(h,k)$, con $h, k \\in \\mathbb{R}$, rispetto alla funzione $f$."
   ]
  },
  {
   "cell_type": "code",
   "execution_count": null,
   "metadata": {
    "collapsed": true
   },
   "outputs": [],
   "source": []
  },
  {
   "cell_type": "markdown",
   "metadata": {},
   "source": [
    "## Esercizio 1"
   ]
  },
  {
   "cell_type": "markdown",
   "metadata": {},
   "source": [
    "a) Cambiare la funzione $f$, definita inzialmente, in modo che sia ora definita come $f(x)=|x|$, usando \"np.abs\" per calcolare il valore assoluto.\n",
    "\n",
    "Effettuare tutte le traslazioni viste in precedenza per verificarne l'effetto sulla funzione."
   ]
  },
  {
   "cell_type": "code",
   "execution_count": null,
   "metadata": {
    "collapsed": true
   },
   "outputs": [],
   "source": []
  },
  {
   "cell_type": "markdown",
   "metadata": {},
   "source": [
    "b) Disegnare il grafico della funzione $g(x)=|x+3|-4$ traslando in modo opportuno il grafico di $f(x)$."
   ]
  },
  {
   "cell_type": "code",
   "execution_count": null,
   "metadata": {
    "collapsed": true
   },
   "outputs": [],
   "source": []
  },
  {
   "cell_type": "markdown",
   "metadata": {
    "collapsed": true
   },
   "source": [
    "## Dilatazioni"
   ]
  },
  {
   "cell_type": "markdown",
   "metadata": {},
   "source": [
    "### a) Dilatazione verticale"
   ]
  },
  {
   "cell_type": "markdown",
   "metadata": {},
   "source": [
    "Definire una funzione $\\text{Dy1}$ che sia dilatata verticalmente di 2 rispetto alla funzione $f=\\ln(x)$."
   ]
  },
  {
   "cell_type": "code",
   "execution_count": null,
   "metadata": {
    "collapsed": true
   },
   "outputs": [],
   "source": [
    "def f(x):\n",
    "    y=np.log(x)\n",
    "    return y\n",
    "\n"
   ]
  },
  {
   "cell_type": "markdown",
   "metadata": {},
   "source": [
    "Definire una funzione $\\text{Dy2}$ che sia compressa verticalmente di 2 rispetto alla funzione $f$."
   ]
  },
  {
   "cell_type": "code",
   "execution_count": null,
   "metadata": {
    "collapsed": true
   },
   "outputs": [],
   "source": []
  },
  {
   "cell_type": "markdown",
   "metadata": {},
   "source": [
    "Definire una funzione $\\text{Dy}$ che sia dilatata o compressa verticalmente di $a$, con $a \\in \\mathbb{R}$, rispetto alla funzione $f$. "
   ]
  },
  {
   "cell_type": "code",
   "execution_count": null,
   "metadata": {
    "collapsed": true
   },
   "outputs": [],
   "source": []
  },
  {
   "cell_type": "markdown",
   "metadata": {},
   "source": [
    "### b) Dilatazione orizzontale"
   ]
  },
  {
   "cell_type": "markdown",
   "metadata": {},
   "source": [
    "Definire una funzione $\\text{Dx1}$ che sia dilatata orizzontalmente di 3 rispetto alla funzione $f$."
   ]
  },
  {
   "cell_type": "code",
   "execution_count": null,
   "metadata": {
    "collapsed": true
   },
   "outputs": [],
   "source": []
  },
  {
   "cell_type": "markdown",
   "metadata": {},
   "source": [
    "Definire una funzione $\\text{Dx2}$ che sia compressa orizzontalmente di 3 rispetto alla funzione $f$."
   ]
  },
  {
   "cell_type": "code",
   "execution_count": null,
   "metadata": {
    "collapsed": true
   },
   "outputs": [],
   "source": []
  },
  {
   "cell_type": "markdown",
   "metadata": {},
   "source": [
    "Definire una funzione $\\text{Dx}$ che sia dilatata o compressa orizzontalmente di $b$, con $b \\in \\mathbb{R}$, rispetto alla funzione $f$. "
   ]
  },
  {
   "cell_type": "code",
   "execution_count": null,
   "metadata": {
    "collapsed": true
   },
   "outputs": [],
   "source": []
  },
  {
   "cell_type": "markdown",
   "metadata": {},
   "source": [
    "## Esercizio 2"
   ]
  },
  {
   "cell_type": "markdown",
   "metadata": {},
   "source": [
    "Cambiare la funzione $f$ in modo che sia ora definita come $f(x)=|x|-2$, usando \"np.abs\" per calcolare il valore assoluto.\n",
    "\n",
    "Effettuare tutte le dilatazioni viste in precedenza per verificarne l'effetto sulla funzione."
   ]
  },
  {
   "cell_type": "code",
   "execution_count": null,
   "metadata": {
    "collapsed": true
   },
   "outputs": [],
   "source": []
  },
  {
   "cell_type": "markdown",
   "metadata": {},
   "source": [
    "Che effetto hanno le dilatazioni sulle intersezioni della funzione con gli assi?"
   ]
  },
  {
   "cell_type": "markdown",
   "metadata": {},
   "source": []
  },
  {
   "cell_type": "markdown",
   "metadata": {},
   "source": [
    "## Esercizio 3"
   ]
  },
  {
   "cell_type": "markdown",
   "metadata": {},
   "source": [
    "Disegnare il grafico della funzione $g(x)=\\frac{1}{2}\\sqrt{4-2x}$ applicando una sequenza di trasformazioni alla funzione $f(x)=\\sqrt{x}$. Usare \"np.sqrt\" per calcolare la radice quadrata."
   ]
  },
  {
   "cell_type": "code",
   "execution_count": null,
   "metadata": {
    "collapsed": true
   },
   "outputs": [],
   "source": [
    "#def f(x):\n",
    "#    y=\n",
    "#    return y\n",
    "\n",
    "#def g1(x):\n",
    "#    y=\n",
    "#    return y\n",
    "\n",
    "#def g2(x):\n",
    "#    y=\n",
    "#    return y\n",
    "\n",
    "#def g3(x):\n",
    "#    y=\n",
    "#    return y\n",
    "\n",
    "#def g(x):\n",
    "#    y=\n",
    "#    return y\n",
    " \n",
    "#multi_plot(f,g1)\n",
    "#multi_plot(f,g2)\n",
    "#multi_plot(f,g3)\n",
    "#multi_plot(f,g)  "
   ]
  },
  {
   "cell_type": "code",
   "execution_count": null,
   "metadata": {
    "collapsed": true
   },
   "outputs": [],
   "source": []
  }
 ],
 "metadata": {
  "celltoolbar": "Raw Cell Format",
  "kernelspec": {
   "display_name": "Python 3",
   "language": "python",
   "name": "python3"
  },
  "language_info": {
   "codemirror_mode": {
    "name": "ipython",
    "version": 3
   },
   "file_extension": ".py",
   "mimetype": "text/x-python",
   "name": "python",
   "nbconvert_exporter": "python",
   "pygments_lexer": "ipython3",
   "version": "3.5.4"
  }
 },
 "nbformat": 4,
 "nbformat_minor": 2
}
