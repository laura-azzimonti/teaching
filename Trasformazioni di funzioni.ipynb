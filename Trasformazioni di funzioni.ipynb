{
 "cells": [
  {
   "cell_type": "markdown",
   "metadata": {},
   "source": [
    "# Trasformazioni di funzioni"
   ]
  },
  {
   "cell_type": "markdown",
   "metadata": {},
   "source": [
    "<a href=\"https://colab.research.google.com/github/lauraazzimonti/teaching/blob/master/Trasformazioni%20di%20funzioni.ipynb\" target=\"_parent\"><img src=\"https://colab.research.google.com/assets/colab-badge.svg\" alt=\"Open In Colab\"/></a>"
   ]
  },
  {
   "cell_type": "markdown",
   "metadata": {},
   "source": [
    "## Basi Python"
   ]
  },
  {
   "cell_type": "markdown",
   "metadata": {},
   "source": [
    "Definiamo la funzione $f(x)=\\log(x)$."
   ]
  },
  {
   "cell_type": "code",
   "execution_count": 75,
   "metadata": {
    "collapsed": false
   },
   "outputs": [],
   "source": [
    "import numpy as np\n",
    "\n",
    "def f(x):\n",
    "    y=np.log(x)\n",
    "    return y"
   ]
  },
  {
   "cell_type": "markdown",
   "metadata": {},
   "source": [
    "Possiamo valutare la funzione $f$ in un punto:"
   ]
  },
  {
   "cell_type": "code",
   "execution_count": 76,
   "metadata": {
    "collapsed": false
   },
   "outputs": [
    {
     "data": {
      "text/plain": [
       "0.0"
      ]
     },
     "execution_count": 76,
     "metadata": {},
     "output_type": "execute_result"
    }
   ],
   "source": [
    "f(1)"
   ]
  },
  {
   "cell_type": "markdown",
   "metadata": {},
   "source": [
    "Possiamo valutare la funzione $f$ in più punti:"
   ]
  },
  {
   "cell_type": "code",
   "execution_count": 77,
   "metadata": {
    "collapsed": false
   },
   "outputs": [
    {
     "name": "stdout",
     "output_type": "stream",
     "text": [
      "0 -inf\n",
      "1 0.0\n",
      "10 2.302585092994046\n"
     ]
    },
    {
     "name": "stderr",
     "output_type": "stream",
     "text": [
      "/Users/laura/anaconda/lib/python3.5/site-packages/ipykernel/__main__.py:4: RuntimeWarning: divide by zero encountered in log\n"
     ]
    }
   ],
   "source": [
    "for x in [0,1,10]:\n",
    "    y=f(x)\n",
    "    print(x,y)"
   ]
  },
  {
   "cell_type": "markdown",
   "metadata": {},
   "source": [
    "Possiamo disegnare il grafico della funzione $f$:"
   ]
  },
  {
   "cell_type": "code",
   "execution_count": 78,
   "metadata": {
    "collapsed": false
   },
   "outputs": [
    {
     "name": "stdout",
     "output_type": "stream",
     "text": [
      "[ 0.   0.1  0.2  0.3  0.4  0.5  0.6  0.7  0.8  0.9  1.   1.1  1.2  1.3\n",
      "  1.4  1.5  1.6  1.7  1.8  1.9  2.   2.1  2.2  2.3  2.4  2.5  2.6  2.7\n",
      "  2.8  2.9  3.   3.1  3.2  3.3  3.4  3.5  3.6  3.7  3.8  3.9  4.   4.1\n",
      "  4.2  4.3  4.4  4.5  4.6  4.7  4.8  4.9  5.   5.1  5.2  5.3  5.4  5.5\n",
      "  5.6  5.7  5.8  5.9  6.   6.1  6.2  6.3  6.4  6.5  6.6  6.7  6.8  6.9\n",
      "  7.   7.1  7.2  7.3  7.4  7.5  7.6  7.7  7.8  7.9  8.   8.1  8.2  8.3\n",
      "  8.4  8.5  8.6  8.7  8.8  8.9  9.   9.1  9.2  9.3  9.4  9.5  9.6  9.7\n",
      "  9.8  9.9 10. ]\n",
      "[-inf, -2.3025850929940455, -1.6094379124341003, -1.203972804325936, -0.916290731874155, -0.6931471805599453, -0.5108256237659905, -0.3566749439387323, -0.2231435513142097, -0.10536051565782628, 0.0, 0.09531017980432493, 0.1823215567939548, 0.26236426446749106, 0.336472236621213, 0.4054651081081644, 0.47000362924573563, 0.5306282510621705, 0.5877866649021191, 0.6418538861723948, 0.6931471805599453, 0.7419373447293773, 0.7884573603642703, 0.8329091229351041, 0.8754687373539001, 0.9162907318741551, 0.9555114450274363, 0.9932517730102834, 1.0296194171811583, 1.0647107369924285, 1.0986122886681098, 1.1314021114911006, 1.1631508098056809, 1.1939224684724346, 1.2237754316221159, 1.252762968495368, 1.2809338454620642, 1.308332819650179, 1.3350010667323402, 1.3609765531356008, 1.3862943611198906, 1.4109869737102623, 1.4350845252893227, 1.4586150226995167, 1.4816045409242156, 1.5040773967762742, 1.5260563034950494, 1.547562508716013, 1.5686159179138455, 1.589235205116581, 1.6094379124341003, 1.6292405397302803, 1.6486586255873816, 1.6677068205580763, 1.6863989535702288, 1.7047480922384253, 1.7227665977411037, 1.7404661748405046, 1.7578579175523739, 1.7749523509116738, 1.791759469228055, 1.8082887711792657, 1.824549292051046, 1.8405496333974871, 1.8562979903656263, 1.8718021769015913, 1.88706964903238, 1.9021075263969205, 1.916922612182061, 1.9315214116032138, 1.9459101490553132, 1.9600947840472698, 1.9740810260220096, 1.9878743481543455, 2.0014800002101243, 2.0149030205422647, 2.0281482472922856, 2.0412203288596382, 2.0541237336955462, 2.066862759472976, 2.0794415416798357, 2.0918640616783932, 2.1041341542702074, 2.1162555148025524, 2.128231705849268, 2.1400661634962708, 2.151762203259462, 2.1633230256605382, 2.174751721484161, 2.186051276738094, 2.1972245773362196, 2.2082744135228043, 2.2192034840549946, 2.2300144001592104, 2.2407096892759584, 2.2512917986064953, 2.2617630984737906, 2.2721258855093374, 2.2823823856765264, 2.2925347571405443, 2.302585092994046]\n"
     ]
    },
    {
     "name": "stderr",
     "output_type": "stream",
     "text": [
      "/Users/laura/anaconda/lib/python3.5/site-packages/ipykernel/__main__.py:4: RuntimeWarning: divide by zero encountered in log\n"
     ]
    }
   ],
   "source": [
    "import matplotlib.pyplot as plt\n",
    "\n",
    "x_vec=np.linspace(0,10,101)\n",
    "y_vec=[]\n",
    "for x in x_vec:\n",
    "    y_vec.append(f(x))\n",
    "\n",
    "print(x_vec)\n",
    "print(y_vec)"
   ]
  },
  {
   "cell_type": "code",
   "execution_count": 79,
   "metadata": {
    "collapsed": false
   },
   "outputs": [
    {
     "data": {
      "image/png": "[encoded data removed]",
      "text/plain": [
       "<Figure size 576x432 with 1 Axes>"
      ]
     },
     "metadata": {},
     "output_type": "display_data"
    }
   ],
   "source": [
    "fig, ax = plt.subplots(figsize=(8, 6))\n",
    "ax.plot(x_vec,y_vec,\"b\")\n",
    "ax.set_xlabel('x')\n",
    "ax.set_ylabel('y')\n",
    "ax.grid(True)\n",
    "plt.show()"
   ]
  },
  {
   "cell_type": "markdown",
   "metadata": {},
   "source": [
    "Possiamo creare una funzione per disegnare il grafico di una funzione:"
   ]
  },
  {
   "cell_type": "code",
   "execution_count": 80,
   "metadata": {
    "collapsed": false
   },
   "outputs": [
    {
     "name": "stderr",
     "output_type": "stream",
     "text": [
      "/Users/laura/anaconda/lib/python3.5/site-packages/ipykernel/__main__.py:4: RuntimeWarning: invalid value encountered in log\n",
      "/Users/laura/anaconda/lib/python3.5/site-packages/ipykernel/__main__.py:4: RuntimeWarning: divide by zero encountered in log\n"
     ]
    },
    {
     "data": {
      "image/png": "[encoded data removed]",
      "text/plain": [
       "<Figure size 576x432 with 1 Axes>"
      ]
     },
     "metadata": {},
     "output_type": "display_data"
    }
   ],
   "source": [
    "def plot(f):\n",
    "    xmin=-10\n",
    "    xmax=10\n",
    "    x_vec=np.linspace(xmin,xmax,101)\n",
    "    y_vec=[]\n",
    "    for x in x_vec:\n",
    "        y_vec.append(f(x))\n",
    "    fig, ax = plt.subplots(figsize=(8, 6))\n",
    "    ax.plot(x_vec, y_vec,\"b\")\n",
    "    ax.set(xlabel='x',ylabel='y')\n",
    "    ax.axhline(y=0,color=\"k\")\n",
    "    ax.axvline(x=0,color=\"k\")\n",
    "    ax.grid(True)\n",
    "    plt.show()\n",
    "\n",
    "plot(f)"
   ]
  },
  {
   "cell_type": "code",
   "execution_count": 81,
   "metadata": {
    "collapsed": false
   },
   "outputs": [
    {
     "name": "stderr",
     "output_type": "stream",
     "text": [
      "/Users/laura/anaconda/lib/python3.5/site-packages/ipykernel/__main__.py:4: RuntimeWarning: invalid value encountered in log\n"
     ]
    },
    {
     "data": {
      "image/png": "[encoded data removed]",
      "text/plain": [
       "<Figure size 576x432 with 1 Axes>"
      ]
     },
     "metadata": {},
     "output_type": "display_data"
    }
   ],
   "source": [
    "def multi_plot(f_blue, f_red, xmin=-10, xmax=10, ymin=-2, ymax=2):\n",
    "    x_vec=np.linspace(xmin,xmax,101)\n",
    "    y_blue_vec=[]\n",
    "    y_red_vec=[]\n",
    "    for x in x_vec:\n",
    "        y_blue_vec.append(f_blue(x))\n",
    "        y_red_vec.append(f_red(x))\n",
    "    fig, ax = plt.subplots(figsize=(8, 6))\n",
    "    ax.plot(x_vec, y_blue_vec,\"b\", x_vec, y_red_vec, \"r\")\n",
    "    ax.set(xlabel='x',ylabel='y', xlim=[xmin,xmax],ylim=[ymin,ymax])\n",
    "    ax.axhline(y=0,color=\"k\")\n",
    "    ax.axvline(x=0,color=\"k\")\n",
    "    ax.grid(True)\n",
    "    plt.show()\n",
    "\n",
    "def g(x):\n",
    "    y=np.exp(x)\n",
    "    return y \n",
    "\n",
    "multi_plot(f_blue=f,f_red=g,xmin=-1,xmax=2)"
   ]
  },
  {
   "cell_type": "markdown",
   "metadata": {},
   "source": [
    "## Simmetrie"
   ]
  },
  {
   "cell_type": "markdown",
   "metadata": {},
   "source": [
    "### a) Simmetria rispetto all'asse delle x:"
   ]
  },
  {
   "cell_type": "code",
   "execution_count": 82,
   "metadata": {
    "collapsed": false
   },
   "outputs": [
    {
     "name": "stderr",
     "output_type": "stream",
     "text": [
      "/Users/laura/anaconda/lib/python3.5/site-packages/ipykernel/__main__.py:4: RuntimeWarning: invalid value encountered in log\n",
      "/Users/laura/anaconda/lib/python3.5/site-packages/ipykernel/__main__.py:4: RuntimeWarning: divide by zero encountered in log\n"
     ]
    },
    {
     "data": {
      "image/png": "[encoded data removed]",
      "text/plain": [
       "<Figure size 576x432 with 1 Axes>"
      ]
     },
     "metadata": {},
     "output_type": "display_data"
    }
   ],
   "source": [
    "def Sx(x):\n",
    "    y=-f(x)\n",
    "    return y\n",
    "\n",
    "multi_plot(f,Sx)"
   ]
  },
  {
   "cell_type": "markdown",
   "metadata": {},
   "source": [
    "### b) Simmetria rispetto all'asse delle y:"
   ]
  },
  {
   "cell_type": "markdown",
   "metadata": {},
   "source": [
    "Definire una funzione $\\text{Sy}$ che sia simmetrica rispetto all'asse delle y della funzione $f$."
   ]
  },
  {
   "cell_type": "code",
   "execution_count": 83,
   "metadata": {
    "collapsed": false
   },
   "outputs": [],
   "source": [
    "#def Sy(x):\n",
    "#    y=\n",
    "#    return y\n",
    "\n",
    "#multi_plot(f,Sy)"
   ]
  },
  {
   "cell_type": "markdown",
   "metadata": {},
   "source": [
    "### c) Simmetria rispetto all'origine:"
   ]
  },
  {
   "cell_type": "markdown",
   "metadata": {},
   "source": [
    "Definire una funzione $\\text{So}$ che sia simmetrica rispetto all'origine della funzione $f$."
   ]
  },
  {
   "cell_type": "code",
   "execution_count": 84,
   "metadata": {
    "collapsed": false
   },
   "outputs": [],
   "source": [
    "#def So(x):\n",
    "#    y=\n",
    "#    return \n",
    "\n",
    "#multi_plot(f,So)"
   ]
  },
  {
   "cell_type": "markdown",
   "metadata": {},
   "source": [
    "## Traslazioni"
   ]
  },
  {
   "cell_type": "markdown",
   "metadata": {},
   "source": [
    "### a) Traslazione verticale"
   ]
  },
  {
   "cell_type": "markdown",
   "metadata": {},
   "source": [
    "Definire una funzione $\\text{Ty1}$ che sia traslata verso destra di 2 rispetto alla funzione $f$."
   ]
  },
  {
   "cell_type": "code",
   "execution_count": null,
   "metadata": {
    "collapsed": true
   },
   "outputs": [],
   "source": []
  },
  {
   "cell_type": "markdown",
   "metadata": {},
   "source": [
    "Definire una funzione $\\text{Ty2}$ che sia traslata verso sinistra di 3 rispetto alla funzione $f$."
   ]
  },
  {
   "cell_type": "code",
   "execution_count": null,
   "metadata": {
    "collapsed": true
   },
   "outputs": [],
   "source": []
  },
  {
   "cell_type": "markdown",
   "metadata": {},
   "source": [
    "Definire una funzione $\\text{Ty}$ che sia traslata di $k$, con $k \\in \\mathbb{R}$, rispetto alla funzione $f$. "
   ]
  },
  {
   "cell_type": "code",
   "execution_count": 86,
   "metadata": {
    "collapsed": true
   },
   "outputs": [],
   "source": [
    "#k=\n",
    "#def Ty(x)\n",
    "#    y=\n",
    "#    return y\n",
    "\n",
    "#multi_plot(f,Ty)"
   ]
  },
  {
   "cell_type": "markdown",
   "metadata": {},
   "source": [
    "## b) Traslazione orizzontale"
   ]
  },
  {
   "cell_type": "markdown",
   "metadata": {},
   "source": [
    "Definire una funzione $\\text{Tx1}$ che sia traslata verso l'alto di 1 rispetto alla funzione $f$."
   ]
  },
  {
   "cell_type": "code",
   "execution_count": null,
   "metadata": {
    "collapsed": true
   },
   "outputs": [],
   "source": []
  },
  {
   "cell_type": "markdown",
   "metadata": {},
   "source": [
    "Definire una funzione $\\text{Tx2}$ che sia traslata verso il basso di 2 rispetto alla funzione $f$."
   ]
  },
  {
   "cell_type": "code",
   "execution_count": null,
   "metadata": {
    "collapsed": true
   },
   "outputs": [],
   "source": []
  },
  {
   "cell_type": "markdown",
   "metadata": {},
   "source": [
    "Definire una funzione $\\text{Tx}$ che sia traslata verso l'alto o il basso di $h$, con $h \\in \\mathbb{R}$, rispetto alla funzione $f$."
   ]
  },
  {
   "cell_type": "code",
   "execution_count": null,
   "metadata": {
    "collapsed": true
   },
   "outputs": [],
   "source": []
  },
  {
   "cell_type": "markdown",
   "metadata": {},
   "source": [
    "## c) Traslazione di un vettore $v=(h,k)$"
   ]
  },
  {
   "cell_type": "markdown",
   "metadata": {},
   "source": [
    "Definire una funzione $\\text{Txy1}$ che sia traslata di un vettore  $v=(1,3)$ rispetto alla funzione $f$."
   ]
  },
  {
   "cell_type": "code",
   "execution_count": null,
   "metadata": {
    "collapsed": true
   },
   "outputs": [],
   "source": []
  },
  {
   "cell_type": "markdown",
   "metadata": {},
   "source": [
    "Definire una funzione $\\text{Txy}$ che sia traslata di un vettore  $v=(h,k)$, con $h, k \\in \\mathbb{R}$, rispetto alla funzione $f$."
   ]
  },
  {
   "cell_type": "code",
   "execution_count": null,
   "metadata": {
    "collapsed": true
   },
   "outputs": [],
   "source": []
  },
  {
   "cell_type": "markdown",
   "metadata": {},
   "source": [
    "## Esercizio 1"
   ]
  },
  {
   "cell_type": "markdown",
   "metadata": {},
   "source": [
    "a) Cambiare la funzione $f$, definita inzialmente, in modo che sia ora definita come $f(x)=|x|$, usando \"np.abs\" per calcolare il valore assoluto.\n",
    "\n",
    "Effettuare tutte le traslazioni viste in precedenza per verificarne l'effetto sulla funzione."
   ]
  },
  {
   "cell_type": "code",
   "execution_count": null,
   "metadata": {
    "collapsed": true
   },
   "outputs": [],
   "source": []
  },
  {
   "cell_type": "markdown",
   "metadata": {},
   "source": [
    "b) Disegnare il grafico della funzione $g(x)=|x+3|-4$ traslando in modo opportuno il grafico di $f(x)$."
   ]
  },
  {
   "cell_type": "code",
   "execution_count": null,
   "metadata": {
    "collapsed": true
   },
   "outputs": [],
   "source": []
  },
  {
   "cell_type": "markdown",
   "metadata": {
    "collapsed": true
   },
   "source": [
    "## Dilatazioni"
   ]
  },
  {
   "cell_type": "markdown",
   "metadata": {},
   "source": [
    "### a) Dilatazione verticale"
   ]
  },
  {
   "cell_type": "markdown",
   "metadata": {},
   "source": [
    "Definire una funzione $\\text{Dy1}$ che sia dilatata verticalmente di 2 rispetto alla funzione $f$."
   ]
  },
  {
   "cell_type": "code",
   "execution_count": null,
   "metadata": {
    "collapsed": true
   },
   "outputs": [],
   "source": []
  },
  {
   "cell_type": "markdown",
   "metadata": {},
   "source": [
    "Definire una funzione $\\text{Dy2}$ che sia compressa verticalmente di 2 rispetto alla funzione $f$."
   ]
  },
  {
   "cell_type": "code",
   "execution_count": null,
   "metadata": {
    "collapsed": true
   },
   "outputs": [],
   "source": []
  },
  {
   "cell_type": "markdown",
   "metadata": {},
   "source": [
    "Definire una funzione $\\text{Dy}$ che sia dilatata o compressa verticalmente di $a$, con $a \\in \\mathbb{R}$, rispetto alla funzione $f$. "
   ]
  },
  {
   "cell_type": "code",
   "execution_count": null,
   "metadata": {
    "collapsed": true
   },
   "outputs": [],
   "source": []
  },
  {
   "cell_type": "markdown",
   "metadata": {},
   "source": [
    "### b) Dilatazione orizzontale"
   ]
  },
  {
   "cell_type": "markdown",
   "metadata": {},
   "source": [
    "Definire una funzione $\\text{Dx1}$ che sia dilatata orizzontalmente di 3 rispetto alla funzione $f$."
   ]
  },
  {
   "cell_type": "code",
   "execution_count": null,
   "metadata": {
    "collapsed": true
   },
   "outputs": [],
   "source": []
  },
  {
   "cell_type": "markdown",
   "metadata": {},
   "source": [
    "Definire una funzione $\\text{Dx2}$ che sia compressa orizzontalmente di 3 rispetto alla funzione $f$."
   ]
  },
  {
   "cell_type": "code",
   "execution_count": null,
   "metadata": {
    "collapsed": true
   },
   "outputs": [],
   "source": []
  },
  {
   "cell_type": "markdown",
   "metadata": {},
   "source": [
    "Definire una funzione $\\text{Dx}$ che sia dilatata o compressa orizzontalmente di $b$, con $b \\in \\mathbb{R}$, rispetto alla funzione $f$. "
   ]
  },
  {
   "cell_type": "code",
   "execution_count": null,
   "metadata": {
    "collapsed": true
   },
   "outputs": [],
   "source": []
  },
  {
   "cell_type": "markdown",
   "metadata": {},
   "source": [
    "## Esercizio 2"
   ]
  },
  {
   "cell_type": "markdown",
   "metadata": {},
   "source": [
    "Cambiare la funzione $f$ in modo che sia ora definita come $f(x)=|x|-2$, usando \"np.abs\" per calcolare il valore assoluto.\n",
    "\n",
    "Effettuare tutte le dilatazioni viste in precedenza per verificarne l'effetto sulla funzione."
   ]
  },
  {
   "cell_type": "code",
   "execution_count": null,
   "metadata": {
    "collapsed": true
   },
   "outputs": [],
   "source": []
  },
  {
   "cell_type": "markdown",
   "metadata": {},
   "source": [
    "Che effetto hanno le dilatazioni sulle intersezioni della funzione con gli assi?"
   ]
  },
  {
   "cell_type": "markdown",
   "metadata": {},
   "source": []
  },
  {
   "cell_type": "markdown",
   "metadata": {},
   "source": [
    "## Esercizio 3"
   ]
  },
  {
   "cell_type": "markdown",
   "metadata": {},
   "source": [
    "Disegnare il grafico della funzione $g(x)=\\frac{1}{2}\\sqrt{4-2x}$ applicando una sequenza di trasformazioni alla funzione $f(x)=\\sqrt{x}$."
   ]
  },
  {
   "cell_type": "code",
   "execution_count": null,
   "metadata": {
    "collapsed": true
   },
   "outputs": [],
   "source": []
  },
  {
   "cell_type": "markdown",
   "metadata": {},
   "source": [
    "## Esercizio 4"
   ]
  },
  {
   "cell_type": "code",
   "execution_count": null,
   "metadata": {
    "collapsed": true
   },
   "outputs": [],
   "source": []
  },
  {
   "cell_type": "code",
   "execution_count": 67,
   "metadata": {
    "collapsed": false
   },
   "outputs": [
    {
     "data": {
      "image/png": "[encoded data removed]",
      "text/plain": [
       "<Figure size 576x432 with 1 Axes>"
      ]
     },
     "metadata": {},
     "output_type": "display_data"
    }
   ],
   "source": [
    "import ipywidgets as iw\n",
    "\n",
    "@iw.interact(h=[-2.0,2.0],k=[-2.0, 2.0])\n",
    "def do(h,k):\n",
    "    def f(x):\n",
    "        return (x-h)**2+k\n",
    "    multi_plot(f,f)"
   ]
  },
  {
   "cell_type": "code",
   "execution_count": null,
   "metadata": {
    "collapsed": true
   },
   "outputs": [],
   "source": []
  }
 ],
 "metadata": {
  "celltoolbar": "Raw Cell Format",
  "kernelspec": {
   "display_name": "Python 3",
   "language": "python",
   "name": "python3"
  },
  "language_info": {
   "codemirror_mode": {
    "name": "ipython",
    "version": 3
   },
   "file_extension": ".py",
   "mimetype": "text/x-python",
   "name": "python",
   "nbconvert_exporter": "python",
   "pygments_lexer": "ipython3",
   "version": "3.5.4"
  }
 },
 "nbformat": 4,
 "nbformat_minor": 2
}
