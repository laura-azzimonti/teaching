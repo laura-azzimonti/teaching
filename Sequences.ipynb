{
  "nbformat": 4,
  "nbformat_minor": 0,
  "metadata": {
    "kernelspec": {
      "display_name": "Python 3",
      "language": "python",
      "name": "python3"
    },
    "language_info": {
      "codemirror_mode": {
        "name": "ipython",
        "version": 3
      },
      "file_extension": ".py",
      "mimetype": "text/x-python",
      "name": "python",
      "nbconvert_exporter": "python",
      "pygments_lexer": "ipython3",
      "version": "3.5.6"
    },
    "colab": {
      "name": "Sequences.ipynb",
      "provenance": [],
      "include_colab_link": true
    }
  },
  "cells": [
    {
      "cell_type": "markdown",
      "metadata": {
        "id": "view-in-github",
        "colab_type": "text"
      },
      "source": [
        "<a href=\"https://colab.research.google.com/github/lauraazzimonti/teaching/blob/master/Sequences.ipynb\" target=\"_parent\"><img src=\"https://colab.research.google.com/assets/colab-badge.svg\" alt=\"Open In Colab\"/></a>"
      ]
    },
    {
      "cell_type": "code",
      "metadata": {
        "id": "6pAJ_IcrEl7e",
        "outputId": "283c6935-3be6-4361-912f-fd57375f15ae"
      },
      "source": [
        "import numpy as np\n",
        "\n",
        "def a(n):\n",
        "    a_n=n/(n+1)\n",
        "    return a_n\n",
        "\n",
        "print(a(1))\n",
        "print(a(2))\n",
        "print(a(3))"
      ],
      "execution_count": null,
      "outputs": [
        {
          "output_type": "stream",
          "text": [
            "0.5\n",
            "0.6666666666666666\n",
            "0.75\n"
          ],
          "name": "stdout"
        }
      ]
    },
    {
      "cell_type": "code",
      "metadata": {
        "id": "wNnTN_fgEl7m",
        "outputId": "1c81da9c-6ac0-410f-daa3-ec956d23644e"
      },
      "source": [
        "n_max=10\n",
        "n_vec=np.linspace(1,n_max,n_max)\n",
        "a_n_vec=[]\n",
        "for n in n_vec:\n",
        "    a_n_vec.append(a(n))\n",
        "\n",
        "print(n_vec)\n",
        "print(a_n_vec)"
      ],
      "execution_count": null,
      "outputs": [
        {
          "output_type": "stream",
          "text": [
            "[ 1.  2.  3.  4.  5.  6.  7.  8.  9. 10.]\n",
            "[0.5, 0.6666666666666666, 0.75, 0.8, 0.8333333333333334, 0.8571428571428571, 0.875, 0.8888888888888888, 0.9, 0.9090909090909091]\n"
          ],
          "name": "stdout"
        }
      ]
    },
    {
      "cell_type": "code",
      "metadata": {
        "id": "oPTuBoGJEl7m"
      },
      "source": [
        "import matplotlib.pyplot as plt\n",
        "\n",
        "def plot_seq(f,n_max):\n",
        "    n_vec=np.linspace(1,n_max,n_max)\n",
        "    a_n_vec=[]\n",
        "    for n in n_vec:\n",
        "        a_n_vec.append(f(n))\n",
        "    fig, ax = plt.subplots(figsize=(10, 6))\n",
        "    ax.plot(n_vec, a_n_vec,\"o\")\n",
        "    ax.set(xlabel='x',ylabel='y')\n",
        "    ax.axhline(y=0,color=\"k\")\n",
        "    ax.axvline(x=0,color=\"k\")\n",
        "    ax.grid(True)\n",
        "    plt.show()"
      ],
      "execution_count": null,
      "outputs": []
    },
    {
      "cell_type": "code",
      "metadata": {
        "id": "mxwhJS4HEl7n",
        "outputId": "eb21efc4-eee0-41ce-ff83-71837a1c01de"
      },
      "source": [
        "n_max=10\n",
        "plot_seq(a,n_max)"
      ],
      "execution_count": null,
      "outputs": [
        {
          "output_type": "display_data",
          "data": {
            "image/png": "[encoded data removed]",
            "text/plain": [
              "<Figure size 720x432 with 1 Axes>"
            ]
          },
          "metadata": {
            "tags": []
          }
        }
      ]
    },
    {
      "cell_type": "code",
      "metadata": {
        "id": "BdG8f42XEl7o",
        "outputId": "ce00d0be-d289-47a7-cc56-13a4ac0e0763"
      },
      "source": [
        "def a_rec(a_prev):\n",
        "    a_curr=3*(a_prev+2)\n",
        "    return a_curr\n",
        "\n",
        "n_max=20\n",
        "n_vec=np.linspace(2,n_max,n_max-1)\n",
        "a_n_vec=[]\n",
        "a_prev=1\n",
        "for n in n_vec:\n",
        "    a_curr=a_rec(a_prev)\n",
        "    a_n_vec.append(a_curr)\n",
        "    a_prev=a_curr\n",
        "\n",
        "print(n_vec)\n",
        "print(a_n_vec)"
      ],
      "execution_count": null,
      "outputs": [
        {
          "output_type": "stream",
          "text": [
            "[ 2.  3.  4.  5.  6.  7.  8.  9. 10. 11. 12. 13. 14. 15. 16. 17. 18. 19.\n",
            " 20.]\n",
            "[9, 33, 105, 321, 969, 2913, 8745, 26241, 78729, 236193, 708585, 2125761, 6377289, 19131873, 57395625, 172186881, 516560649, 1549681953, 4649045865]\n"
          ],
          "name": "stdout"
        }
      ]
    },
    {
      "cell_type": "code",
      "metadata": {
        "collapsed": true,
        "id": "_2APbPNBEl7o"
      },
      "source": [
        ""
      ],
      "execution_count": null,
      "outputs": []
    }
  ]
}