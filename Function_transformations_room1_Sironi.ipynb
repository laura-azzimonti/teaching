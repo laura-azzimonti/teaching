{
  "nbformat": 4,
  "nbformat_minor": 0,
  "metadata": {
    "celltoolbar": "Raw Cell Format",
    "kernelspec": {
      "display_name": "Python 3",
      "language": "python",
      "name": "python3"
    },
    "language_info": {
      "codemirror_mode": {
        "name": "ipython",
        "version": 3
      },
      "file_extension": ".py",
      "mimetype": "text/x-python",
      "name": "python",
      "nbconvert_exporter": "python",
      "pygments_lexer": "ipython3",
      "version": "3.5.4"
    },
    "colab": {
      "name": "Copia di Function_transformations.ipynb",
      "provenance": [],
      "collapsed_sections": []
    }
  },
  "cells": [
    {
      "cell_type": "markdown",
      "metadata": {
        "id": "Vfwz5gb9p9tK"
      },
      "source": [
        "# Function transformations"
      ]
    },
    {
      "cell_type": "markdown",
      "metadata": {
        "id": "8taLByU1p9tK"
      },
      "source": [
        "<a href=\"https://colab.research.google.com/github/lauraazzimonti/teaching/blob/master/Trasformazioni_funzioni.ipynb\" target=\"_parent\"><img src=\"https://colab.research.google.com/assets/colab-badge.svg\" alt=\"Open In Colab\"/></a>"
      ]
    },
    {
      "cell_type": "markdown",
      "metadata": {
        "id": "DZz7st4ip9tK"
      },
      "source": [
        "##Python basics"
      ]
    },
    {
      "cell_type": "markdown",
      "metadata": {
        "id": "IYKp8Z9Dp9tK"
      },
      "source": [
        "We define the function $f(x)=\\ln(x)$ by means of \"np.log\"."
      ]
    },
    {
      "cell_type": "code",
      "metadata": {
        "id": "DSwevdSjp9tK"
      },
      "source": [
        "import numpy as np\n",
        "\n",
        "def f(x):\n",
        "    y=np.log(x)\n",
        "    return y"
      ],
      "execution_count": 2,
      "outputs": []
    },
    {
      "cell_type": "markdown",
      "metadata": {
        "id": "-kkx36nap9tK"
      },
      "source": [
        "We evaluate the function $f$ in a point:"
      ]
    },
    {
      "cell_type": "code",
      "metadata": {
        "id": "byRn3QBmp9tK",
        "outputId": "ba34fa19-eeba-4f9c-f301-7804e45642c7",
        "colab": {
          "base_uri": "https://localhost:8080/"
        }
      },
      "source": [
        "f(1)"
      ],
      "execution_count": 3,
      "outputs": [
        {
          "output_type": "execute_result",
          "data": {
            "text/plain": [
              "0.0"
            ]
          },
          "metadata": {},
          "execution_count": 3
        }
      ]
    },
    {
      "cell_type": "markdown",
      "metadata": {
        "id": "_4t3kHQ8p9tK"
      },
      "source": [
        "We evaluate the function $f$ in different points:"
      ]
    },
    {
      "cell_type": "code",
      "metadata": {
        "id": "VUkDV8zBp9tK",
        "colab": {
          "base_uri": "https://localhost:8080/"
        },
        "outputId": "c6bcabc7-4573-408c-f28c-c2fee3abd705"
      },
      "source": [
        "for x in [0,1,10]:\n",
        "    y=f(x)\n",
        "    print(x,y)"
      ],
      "execution_count": 4,
      "outputs": [
        {
          "output_type": "stream",
          "name": "stdout",
          "text": [
            "0 -inf\n",
            "1 0.0\n",
            "10 2.302585092994046\n"
          ]
        },
        {
          "output_type": "stream",
          "name": "stderr",
          "text": [
            "/usr/local/lib/python3.7/dist-packages/ipykernel_launcher.py:4: RuntimeWarning: divide by zero encountered in log\n",
            "  after removing the cwd from sys.path.\n"
          ]
        }
      ]
    },
    {
      "cell_type": "markdown",
      "metadata": {
        "id": "gJ0_FXjap9tK"
      },
      "source": [
        "We sketch the graph of the function $f$:"
      ]
    },
    {
      "cell_type": "code",
      "metadata": {
        "id": "dOk7WXN0p9tK",
        "outputId": "ec3f4437-4c73-404b-aae9-561bf6dd85f8",
        "colab": {
          "base_uri": "https://localhost:8080/"
        }
      },
      "source": [
        "import matplotlib.pyplot as plt\n",
        "\n",
        "x_vec=np.linspace(0,10,101)\n",
        "y_vec=[]\n",
        "for x in x_vec:\n",
        "    y_vec.append(f(x))\n",
        "\n",
        "print(x_vec)\n",
        "print(y_vec)"
      ],
      "execution_count": 5,
      "outputs": [
        {
          "output_type": "stream",
          "name": "stdout",
          "text": [
            "[ 0.   0.1  0.2  0.3  0.4  0.5  0.6  0.7  0.8  0.9  1.   1.1  1.2  1.3\n",
            "  1.4  1.5  1.6  1.7  1.8  1.9  2.   2.1  2.2  2.3  2.4  2.5  2.6  2.7\n",
            "  2.8  2.9  3.   3.1  3.2  3.3  3.4  3.5  3.6  3.7  3.8  3.9  4.   4.1\n",
            "  4.2  4.3  4.4  4.5  4.6  4.7  4.8  4.9  5.   5.1  5.2  5.3  5.4  5.5\n",
            "  5.6  5.7  5.8  5.9  6.   6.1  6.2  6.3  6.4  6.5  6.6  6.7  6.8  6.9\n",
            "  7.   7.1  7.2  7.3  7.4  7.5  7.6  7.7  7.8  7.9  8.   8.1  8.2  8.3\n",
            "  8.4  8.5  8.6  8.7  8.8  8.9  9.   9.1  9.2  9.3  9.4  9.5  9.6  9.7\n",
            "  9.8  9.9 10. ]\n",
            "[-inf, -2.3025850929940455, -1.6094379124341003, -1.203972804325936, -0.916290731874155, -0.6931471805599453, -0.5108256237659905, -0.3566749439387323, -0.2231435513142097, -0.10536051565782628, 0.0, 0.09531017980432493, 0.1823215567939548, 0.26236426446749106, 0.336472236621213, 0.4054651081081644, 0.47000362924573563, 0.5306282510621705, 0.5877866649021191, 0.6418538861723948, 0.6931471805599453, 0.7419373447293773, 0.7884573603642703, 0.8329091229351041, 0.8754687373539001, 0.9162907318741551, 0.9555114450274363, 0.9932517730102834, 1.0296194171811583, 1.0647107369924285, 1.0986122886681098, 1.1314021114911006, 1.1631508098056809, 1.1939224684724346, 1.2237754316221159, 1.252762968495368, 1.2809338454620642, 1.308332819650179, 1.3350010667323402, 1.3609765531356008, 1.3862943611198906, 1.4109869737102623, 1.4350845252893227, 1.4586150226995167, 1.4816045409242156, 1.5040773967762742, 1.5260563034950494, 1.547562508716013, 1.5686159179138455, 1.589235205116581, 1.6094379124341003, 1.6292405397302803, 1.6486586255873816, 1.6677068205580763, 1.6863989535702288, 1.7047480922384253, 1.7227665977411037, 1.7404661748405046, 1.7578579175523739, 1.7749523509116738, 1.791759469228055, 1.8082887711792657, 1.824549292051046, 1.8405496333974871, 1.8562979903656263, 1.8718021769015913, 1.88706964903238, 1.9021075263969205, 1.916922612182061, 1.9315214116032138, 1.9459101490553132, 1.9600947840472698, 1.9740810260220096, 1.9878743481543455, 2.0014800002101243, 2.0149030205422647, 2.0281482472922856, 2.0412203288596382, 2.0541237336955462, 2.066862759472976, 2.0794415416798357, 2.0918640616783932, 2.1041341542702074, 2.1162555148025524, 2.128231705849268, 2.1400661634962708, 2.151762203259462, 2.1633230256605382, 2.174751721484161, 2.186051276738094, 2.1972245773362196, 2.2082744135228043, 2.2192034840549946, 2.2300144001592104, 2.2407096892759584, 2.2512917986064953, 2.2617630984737906, 2.2721258855093374, 2.2823823856765264, 2.2925347571405443, 2.302585092994046]\n"
          ]
        },
        {
          "output_type": "stream",
          "name": "stderr",
          "text": [
            "/usr/local/lib/python3.7/dist-packages/ipykernel_launcher.py:4: RuntimeWarning: divide by zero encountered in log\n",
            "  after removing the cwd from sys.path.\n"
          ]
        }
      ]
    },
    {
      "cell_type": "code",
      "metadata": {
        "id": "ds10k2Swp9tL",
        "outputId": "92c783d0-eadf-40fb-de9b-916f57c33361",
        "colab": {
          "base_uri": "https://localhost:8080/",
          "height": 388
        }
      },
      "source": [
        "fig, ax = plt.subplots(figsize=(8, 6))\n",
        "ax.plot(x_vec,y_vec,\"b\")\n",
        "ax.set_xlabel('x')\n",
        "ax.set_ylabel('y')\n",
        "ax.grid(True)\n",
        "plt.show()"
      ],
      "execution_count": 6,
      "outputs": [
        {
          "output_type": "display_data",
          "data": {
            "image/png": "[encoded data removed]",
            "text/plain": [
              "<Figure size 576x432 with 1 Axes>"
            ]
          },
          "metadata": {
            "needs_background": "light"
          }
        }
      ]
    },
    {
      "cell_type": "markdown",
      "metadata": {
        "id": "ayCHEkdpp9tL"
      },
      "source": [
        "We define a function to sketch the graph of a function:"
      ]
    },
    {
      "cell_type": "code",
      "metadata": {
        "id": "i1FwOt8bp9tL",
        "outputId": "4ea81fc4-c3d6-4f45-f2a2-fae7a89d8c48",
        "colab": {
          "base_uri": "https://localhost:8080/",
          "height": 457
        }
      },
      "source": [
        "def plot(f):\n",
        "    xmin=-10\n",
        "    xmax=10\n",
        "    x_vec=np.linspace(xmin,xmax,101)\n",
        "    y_vec=[]\n",
        "    for x in x_vec:\n",
        "        y_vec.append(f(x))\n",
        "    fig, ax = plt.subplots(figsize=(8, 6))\n",
        "    ax.plot(x_vec, y_vec,\"b\")\n",
        "    ax.set(xlabel='x',ylabel='y')\n",
        "    ax.axhline(y=0,color=\"k\")\n",
        "    ax.axvline(x=0,color=\"k\")\n",
        "    ax.grid(True)\n",
        "    plt.show()\n",
        "\n",
        "plot(f)"
      ],
      "execution_count": 7,
      "outputs": [
        {
          "output_type": "stream",
          "name": "stderr",
          "text": [
            "/usr/local/lib/python3.7/dist-packages/ipykernel_launcher.py:4: RuntimeWarning: invalid value encountered in log\n",
            "  after removing the cwd from sys.path.\n",
            "/usr/local/lib/python3.7/dist-packages/ipykernel_launcher.py:4: RuntimeWarning: divide by zero encountered in log\n",
            "  after removing the cwd from sys.path.\n"
          ]
        },
        {
          "output_type": "display_data",
          "data": {
            "image/png": "[encoded data removed]",
            "text/plain": [
              "<Figure size 576x432 with 1 Axes>"
            ]
          },
          "metadata": {
            "needs_background": "light"
          }
        }
      ]
    },
    {
      "cell_type": "code",
      "metadata": {
        "id": "vJTArufhp9tL",
        "outputId": "86c66336-4d5d-4b2c-e36a-34d79170bb46",
        "colab": {
          "base_uri": "https://localhost:8080/",
          "height": 369
        }
      },
      "source": [
        "def multi_plot(f_blue, f_red, xmin=-10, xmax=10, ymin=-5, ymax=5):\n",
        "    x_vec=np.linspace(xmin,xmax,1001)\n",
        "    y_blue_vec=[]\n",
        "    y_red_vec=[]\n",
        "    for x in x_vec:\n",
        "        y_blue_vec.append(f_blue(x))\n",
        "        y_red_vec.append(f_red(x))\n",
        "    fig, ax = plt.subplots(figsize=(10, 5))\n",
        "    ax.plot(x_vec, y_blue_vec,\"b\", x_vec, y_red_vec, \"r\")\n",
        "    ax.set(xlabel='x',ylabel='y', xlim=[xmin,xmax],ylim=[ymin,ymax])\n",
        "    ax.set_xticks(np.arange(xmin,xmax,1)) \n",
        "    ax.set_yticks(np.arange(ymin,ymax,1)) \n",
        "    ax.axhline(y=0,color=\"k\")\n",
        "    ax.axvline(x=0,color=\"k\")\n",
        "    ax.grid(True)\n",
        "    plt.gca().set_aspect('equal', adjustable='box')\n",
        "    plt.show()\n",
        "\n",
        "def g(x):\n",
        "    y=np.exp(x)\n",
        "    return y \n",
        "\n",
        "multi_plot(f_blue=f,f_red=g,xmin=-2,xmax=5, ymin=-2, ymax=5)"
      ],
      "execution_count": 8,
      "outputs": [
        {
          "output_type": "stream",
          "name": "stderr",
          "text": [
            "/usr/local/lib/python3.7/dist-packages/ipykernel_launcher.py:4: RuntimeWarning: invalid value encountered in log\n",
            "  after removing the cwd from sys.path.\n"
          ]
        },
        {
          "output_type": "display_data",
          "data": {
            "image/png": "[encoded data removed]",
            "text/plain": [
              "<Figure size 720x360 with 1 Axes>"
            ]
          },
          "metadata": {
            "needs_background": "light"
          }
        }
      ]
    },
    {
      "cell_type": "markdown",
      "metadata": {
        "id": "0ufBQhDbp9tL"
      },
      "source": [
        "## Reflections"
      ]
    },
    {
      "cell_type": "markdown",
      "metadata": {
        "id": "piRjI2iOp9tL"
      },
      "source": [
        "### a) Reflection with respect to the x-axis:"
      ]
    },
    {
      "cell_type": "markdown",
      "metadata": {
        "id": "Mk3kwpTUp9tL"
      },
      "source": [
        "Write a function $\\text{Rx}$ whose graph corresponds to the graph of $f$ reflected in the x-axis."
      ]
    },
    {
      "cell_type": "code",
      "metadata": {
        "id": "eMsZRskdp9tL",
        "outputId": "42c7705e-208e-496b-cc87-2dd17893ebba",
        "colab": {
          "base_uri": "https://localhost:8080/",
          "height": 403
        }
      },
      "source": [
        "def Rx(x):\n",
        "    y=-f(x)\n",
        "    return y\n",
        "\n",
        "multi_plot(f,Rx)"
      ],
      "execution_count": null,
      "outputs": [
        {
          "output_type": "stream",
          "name": "stderr",
          "text": [
            "/usr/local/lib/python3.7/dist-packages/ipykernel_launcher.py:4: RuntimeWarning: invalid value encountered in log\n",
            "  after removing the cwd from sys.path.\n",
            "/usr/local/lib/python3.7/dist-packages/ipykernel_launcher.py:4: RuntimeWarning: divide by zero encountered in log\n",
            "  after removing the cwd from sys.path.\n"
          ]
        },
        {
          "output_type": "display_data",
          "data": {
            "image/png": "[encoded data removed]",
            "text/plain": [
              "<Figure size 720x360 with 1 Axes>"
            ]
          },
          "metadata": {
            "needs_background": "light"
          }
        }
      ]
    },
    {
      "cell_type": "markdown",
      "metadata": {
        "id": "_lAg9DQMp9tL"
      },
      "source": [
        "### b) Reflection with respect to the y-axis:"
      ]
    },
    {
      "cell_type": "markdown",
      "metadata": {
        "id": "kxDWwx9sp9tL"
      },
      "source": [
        "Write a function $\\text{Ry}$ whose graph corresponds to the graph of $f$ reflected in the y-axis."
      ]
    },
    {
      "cell_type": "code",
      "metadata": {
        "id": "y6pEK4ebp9tL"
      },
      "source": [
        "#def Ry(x):\n",
        "#    y=\n",
        "#    return y\n",
        "\n",
        "#multi_plot(f,Ry)"
      ],
      "execution_count": null,
      "outputs": []
    },
    {
      "cell_type": "markdown",
      "metadata": {
        "id": "gvfT1c7ep9tL"
      },
      "source": [
        "### c) Reflection with respect to the origin O=(0;0):"
      ]
    },
    {
      "cell_type": "markdown",
      "metadata": {
        "id": "nhcmEmM9p9tL"
      },
      "source": [
        "Write a function $\\text{Ro}$ whose graph corresponds to the graph of $f$ reflected in the origin."
      ]
    },
    {
      "cell_type": "code",
      "metadata": {
        "id": "CxJfjs-ep9tL"
      },
      "source": [
        "#def Ro(x):\n",
        "#    y=\n",
        "#    return y\n",
        "\n",
        "#multi_plot(f,Ro)"
      ],
      "execution_count": null,
      "outputs": []
    },
    {
      "cell_type": "markdown",
      "metadata": {
        "id": "oVc6tB8Kp9tL"
      },
      "source": [
        "## Shifts"
      ]
    },
    {
      "cell_type": "markdown",
      "metadata": {
        "id": "bqPgzoVIp9tL"
      },
      "source": [
        "### a) Vertical shift"
      ]
    },
    {
      "cell_type": "markdown",
      "metadata": {
        "id": "m93Q51K6p9tL"
      },
      "source": [
        "Write a function $\\text{Sy1}$ whose graph corresponds to the graph of $f$ shifted upward of 2 units."
      ]
    },
    {
      "cell_type": "code",
      "metadata": {
        "id": "pR76gSHPp9tL"
      },
      "source": [
        ""
      ],
      "execution_count": null,
      "outputs": []
    },
    {
      "cell_type": "markdown",
      "metadata": {
        "id": "90ZV1xdkp9tL"
      },
      "source": [
        "Write a function $\\text{Sy2}$ whose graph corresponds to the graph of $f$ shifted downward of 3 units."
      ]
    },
    {
      "cell_type": "code",
      "metadata": {
        "id": "nnUFsB_up9tL"
      },
      "source": [
        ""
      ],
      "execution_count": null,
      "outputs": []
    },
    {
      "cell_type": "markdown",
      "metadata": {
        "id": "N8oxlJitp9tL"
      },
      "source": [
        "Write a function $\\text{Sy}$ whose graph corresponds to the graph of $f$ shifted upward or downward of $k$ units, where $k \\in \\mathbb{R}$."
      ]
    },
    {
      "cell_type": "code",
      "metadata": {
        "id": "8Cj_G04Op9tL"
      },
      "source": [
        "#k=\n",
        "#def Sy(x):\n",
        "#    y=\n",
        "#    return y\n",
        "\n",
        "#multi_plot(f,Sy)"
      ],
      "execution_count": null,
      "outputs": []
    },
    {
      "cell_type": "markdown",
      "metadata": {
        "id": "H2HiB_HIp9tL"
      },
      "source": [
        "### b) Horizontal shift"
      ]
    },
    {
      "cell_type": "markdown",
      "metadata": {
        "id": "SqqQab5sp9tL"
      },
      "source": [
        "Write a function $\\text{Sx1}$ whose graph corresponds to the graph of $f$ shifted to the right of 1 unit."
      ]
    },
    {
      "cell_type": "code",
      "metadata": {
        "id": "SEiCRIRjp9tL"
      },
      "source": [
        ""
      ],
      "execution_count": null,
      "outputs": []
    },
    {
      "cell_type": "markdown",
      "metadata": {
        "id": "pzMmogqup9tL"
      },
      "source": [
        "Write a function $\\text{Sx2}$ whose graph corresponds to the graph of $f$ shifted to the left of 2 units."
      ]
    },
    {
      "cell_type": "code",
      "metadata": {
        "id": "2MBdbfjEp9tL"
      },
      "source": [
        ""
      ],
      "execution_count": null,
      "outputs": []
    },
    {
      "cell_type": "markdown",
      "metadata": {
        "id": "TqG7DI7pp9tL"
      },
      "source": [
        "Write a function $\\text{Sx}$ whose graph corresponds to the graph of $f$ shifted to the right or to the left of $h$ units, where $h \\in \\mathbb{R}$."
      ]
    },
    {
      "cell_type": "code",
      "metadata": {
        "id": "rqdTH02op9tL"
      },
      "source": [
        ""
      ],
      "execution_count": null,
      "outputs": []
    },
    {
      "cell_type": "markdown",
      "metadata": {
        "id": "zZh8OwKRp9tL"
      },
      "source": [
        "## c) Combining vertical and horizontal shifts"
      ]
    },
    {
      "cell_type": "markdown",
      "metadata": {
        "id": "6LJunHFYp9tL"
      },
      "source": [
        "Write a function $\\text{Sxy1}$ whose graph corresponds to the graph of $f$ shifted of vector $v=(1,3)$."
      ]
    },
    {
      "cell_type": "code",
      "metadata": {
        "id": "fkZMUW_Up9tL"
      },
      "source": [
        ""
      ],
      "execution_count": null,
      "outputs": []
    },
    {
      "cell_type": "markdown",
      "metadata": {
        "id": "9x7s9uoSp9tL"
      },
      "source": [
        "Write a function $\\text{Sxy}$ whose graph corresponds to the graph of $f$ shifted of vector $v=(h,k)$, where $h, k \\in \\mathbb{R}$.\n"
      ]
    },
    {
      "cell_type": "code",
      "metadata": {
        "id": "XROyTyXup9tL"
      },
      "source": [
        ""
      ],
      "execution_count": null,
      "outputs": []
    },
    {
      "cell_type": "markdown",
      "metadata": {
        "id": "lmoDu6wsp9tL"
      },
      "source": [
        "## Exercise 1"
      ]
    },
    {
      "cell_type": "markdown",
      "metadata": {
        "id": "UjAAlVf8p9tL"
      },
      "source": [
        "a) Define a new function $f$, as $f(x)=|x|$, by using \"np.abs\" for the absolute value.\n",
        "\n",
        "Apply all the previous transformations to check the effect on the new function."
      ]
    },
    {
      "cell_type": "code",
      "metadata": {
        "id": "WxiWNbGcp9tL",
        "outputId": "a519b202-c449-437d-9569-b56b0b3a7852",
        "colab": {
          "base_uri": "https://localhost:8080/",
          "height": 388
        }
      },
      "source": [
        "import numpy as np\n",
        "\n",
        "def f(x):\n",
        "    y=np.abs(x)\n",
        "    return y\n",
        "plot(f)"
      ],
      "execution_count": null,
      "outputs": [
        {
          "output_type": "display_data",
          "data": {
            "image/png": "[encoded data removed]",
            "text/plain": [
              "<Figure size 576x432 with 1 Axes>"
            ]
          },
          "metadata": {
            "needs_background": "light"
          }
        }
      ]
    },
    {
      "cell_type": "markdown",
      "metadata": {
        "id": "mWmEWro5p9tL"
      },
      "source": [
        "b) Sketch the plot of the function $g(x)=|x+3|-4$ by shifting properly the graph of $f(x)$."
      ]
    },
    {
      "cell_type": "code",
      "metadata": {
        "id": "mvSzD3KXp9tL",
        "outputId": "590c986b-6427-4dba-8aa7-256648f1af6b",
        "colab": {
          "base_uri": "https://localhost:8080/",
          "height": 388
        }
      },
      "source": [
        "def g(x):\n",
        "    y=np.abs(x+3)-4\n",
        "    return y\n",
        "plot(g)"
      ],
      "execution_count": null,
      "outputs": [
        {
          "output_type": "display_data",
          "data": {
            "image/png": "[encoded data removed]",
            "text/plain": [
              "<Figure size 576x432 with 1 Axes>"
            ]
          },
          "metadata": {
            "needs_background": "light"
          }
        }
      ]
    },
    {
      "cell_type": "markdown",
      "metadata": {
        "id": "d5mkekCnNin3"
      },
      "source": [
        "What's the effect of the transformations on the x and y intercept?"
      ]
    },
    {
      "cell_type": "code",
      "source": [
        ""
      ],
      "metadata": {
        "id": "0mKDQW3gMzc9"
      },
      "execution_count": null,
      "outputs": []
    },
    {
      "cell_type": "markdown",
      "metadata": {
        "id": "lhC2r0-bNvXn"
      },
      "source": [
        "The intercepts with X axys are shifted of -3 on the left. The intercept with Y axys is negative."
      ]
    },
    {
      "cell_type": "markdown",
      "metadata": {
        "collapsed": true,
        "id": "KIhTDoE5p9tL"
      },
      "source": [
        "## Stretching and shrinking"
      ]
    },
    {
      "cell_type": "markdown",
      "metadata": {
        "id": "KcCv9EE3p9tL"
      },
      "source": [
        "### a) vertical stretching and shrinking"
      ]
    },
    {
      "cell_type": "markdown",
      "metadata": {
        "id": "UBRGxdItp9tL"
      },
      "source": [
        "Write a function $\\text{Dy1}$ whose graph corresponds to the graph of $f(x)=\\ln(x)$ stretched vertically by a factor 2."
      ]
    },
    {
      "cell_type": "code",
      "metadata": {
        "id": "Uun7aXugp9tL"
      },
      "source": [
        "def f(x):\n",
        "    y=np.log(x)*2\n",
        "    return y\n",
        "\n"
      ],
      "execution_count": null,
      "outputs": []
    },
    {
      "cell_type": "markdown",
      "metadata": {
        "id": "rjA2ZVSQp9tL"
      },
      "source": [
        "Write a function $\\text{Dy1}$ whose graph corresponds to the graph of $f$ shrinked vertically by a factor 2."
      ]
    },
    {
      "cell_type": "code",
      "metadata": {
        "id": "O5DYWHdZp9tL"
      },
      "source": [
        "def f(x):\n",
        "    y=np.log(x)/2\n",
        "    return y"
      ],
      "execution_count": null,
      "outputs": []
    },
    {
      "cell_type": "markdown",
      "metadata": {
        "id": "dYo0hXYGp9tL"
      },
      "source": [
        "Write a function $\\text{Dy}$ whose graph corresponds to the graph of $f$ stretched or shrinked vertically by a factor $a$, where $a \\in \\mathbb{R}$."
      ]
    },
    {
      "cell_type": "code",
      "metadata": {
        "id": "BkUbQUkmp9tL"
      },
      "source": [
        "def f(x):\n",
        "    y=np.log(x)*a\n",
        "    return y"
      ],
      "execution_count": null,
      "outputs": []
    },
    {
      "cell_type": "markdown",
      "metadata": {
        "id": "igltPNOqp9tL"
      },
      "source": [
        "### b) Horizontal stretching and shrinking"
      ]
    },
    {
      "cell_type": "markdown",
      "metadata": {
        "id": "dejzirZwp9tL"
      },
      "source": [
        "Write a function $\\text{Dx1}$ whose graph corresponds to the graph of $f$ stretched horizontally by a factor 3."
      ]
    },
    {
      "cell_type": "code",
      "metadata": {
        "id": "S2rClnbFp9tL"
      },
      "source": [
        "def f(x):\n",
        "    y=np.log(x/3)\n",
        "    return y"
      ],
      "execution_count": null,
      "outputs": []
    },
    {
      "cell_type": "markdown",
      "metadata": {
        "id": "nQuQQ27Pp9tL"
      },
      "source": [
        "Write a function $\\text{Dx2}$ whose graph corresponds to the graph of $f$ shrinked horizontally by a factor 3."
      ]
    },
    {
      "cell_type": "code",
      "metadata": {
        "id": "KiMV9z8Rp9tL"
      },
      "source": [
        "def f(x):\n",
        "    y=np.log(x*3)\n",
        "    return y"
      ],
      "execution_count": null,
      "outputs": []
    },
    {
      "cell_type": "markdown",
      "metadata": {
        "id": "P7vjIgn6p9tL"
      },
      "source": [
        "Write a function $\\text{Dx}$ whose graph corresponds to the graph of $f$ streched or shrinked horizontally by a factor $b$, where $b \\in \\mathbb{R}$."
      ]
    },
    {
      "cell_type": "code",
      "metadata": {
        "id": "zQyFhuykp9tL"
      },
      "source": [
        "def f(x):\n",
        "    y=np.log(x*b)\n",
        "    return y"
      ],
      "execution_count": null,
      "outputs": []
    },
    {
      "cell_type": "markdown",
      "metadata": {
        "id": "i3C_5m3mp9tL"
      },
      "source": [
        "## Exercise 2"
      ]
    },
    {
      "cell_type": "markdown",
      "metadata": {
        "id": "jTR2yHuEp9tL"
      },
      "source": [
        "Define a new function $f$, as $f(x)=|x|-2$, by using \"np.abs\" for the absolute value.\n",
        "\n",
        "Apply all the stretching and shrinking transformations to check the effect on the new function."
      ]
    },
    {
      "cell_type": "code",
      "metadata": {
        "id": "Mrdp5Eadp9tL",
        "outputId": "517fc908-9b31-4557-9b26-b7a08029bf02",
        "colab": {
          "base_uri": "https://localhost:8080/",
          "height": 388
        }
      },
      "source": [
        "import numpy as np\n",
        "\n",
        "def f(x):\n",
        "    y=np.abs(x)-2\n",
        "    return y\n",
        "plot(f)"
      ],
      "execution_count": null,
      "outputs": [
        {
          "output_type": "display_data",
          "data": {
            "image/png": "[encoded data removed]",
            "text/plain": [
              "<Figure size 576x432 with 1 Axes>"
            ]
          },
          "metadata": {
            "needs_background": "light"
          }
        }
      ]
    },
    {
      "cell_type": "markdown",
      "source": [
        ""
      ],
      "metadata": {
        "id": "FYJYpMnoQxEY"
      }
    },
    {
      "cell_type": "markdown",
      "metadata": {
        "id": "btGlVwH4p9tL"
      },
      "source": [
        "What's the effect of the transformations on the x and y intercept?"
      ]
    },
    {
      "cell_type": "markdown",
      "metadata": {
        "id": "VXdA4MQop9tL"
      },
      "source": [
        "The y intercept has moved down of -2.\n",
        "The x intercepts are now two and are simmetrical with y axys."
      ]
    },
    {
      "cell_type": "markdown",
      "metadata": {
        "id": "8jyMCoq1p9tL"
      },
      "source": [
        "## Exercise 3"
      ]
    },
    {
      "cell_type": "markdown",
      "metadata": {
        "id": "pf5WXeFGp9tL"
      },
      "source": [
        "Sketch the graph of the function $g(x)=\\frac{1}{2}\\sqrt{4-2x}$ by applying sequentially some transformations to the function $f(x)=\\sqrt{x}$. Use \"np.sqrt\" for square root."
      ]
    },
    {
      "cell_type": "code",
      "metadata": {
        "id": "hhEPS8mdp9tL",
        "outputId": "787d185a-2bed-47dc-a2fc-3afcc98563cf",
        "colab": {
          "base_uri": "https://localhost:8080/",
          "height": 1000
        }
      },
      "source": [
        "def f(x):\n",
        "    y=np.sqrt(x)\n",
        "    return y\n",
        "\n",
        "def g1(x):\n",
        "    y=f(x*2)\n",
        "    return y\n",
        "\n",
        "def g2(x):\n",
        "    y=g1(-x)\n",
        "    return y\n",
        "\n",
        "def g3(x):\n",
        "    y=(1/2)*g2(x-2)\n",
        "    return y\n",
        "\n",
        "def g(x):\n",
        "    y=(1/2)*np.sqrt(4-(2)*x)\n",
        "    return y\n",
        " \n",
        "multi_plot(f,g1)\n",
        "multi_plot(f,g2)\n",
        "multi_plot(f,g3)\n",
        "multi_plot(f,g)\n",
        "multi_plot(g,g3)"
      ],
      "execution_count": 18,
      "outputs": [
        {
          "output_type": "stream",
          "name": "stderr",
          "text": [
            "/usr/local/lib/python3.7/dist-packages/ipykernel_launcher.py:2: RuntimeWarning: invalid value encountered in sqrt\n",
            "  \n"
          ]
        },
        {
          "output_type": "display_data",
          "data": {
            "image/png": "[encoded data removed]",
            "text/plain": [
              "<Figure size 720x360 with 1 Axes>"
            ]
          },
          "metadata": {
            "needs_background": "light"
          }
        },
        {
          "output_type": "stream",
          "name": "stderr",
          "text": [
            "/usr/local/lib/python3.7/dist-packages/ipykernel_launcher.py:2: RuntimeWarning: invalid value encountered in sqrt\n",
            "  \n"
          ]
        },
        {
          "output_type": "display_data",
          "data": {
            "image/png": "[encoded data removed]",
            "text/plain": [
              "<Figure size 720x360 with 1 Axes>"
            ]
          },
          "metadata": {
            "needs_background": "light"
          }
        },
        {
          "output_type": "stream",
          "name": "stderr",
          "text": [
            "/usr/local/lib/python3.7/dist-packages/ipykernel_launcher.py:2: RuntimeWarning: invalid value encountered in sqrt\n",
            "  \n"
          ]
        },
        {
          "output_type": "display_data",
          "data": {
            "image/png": "[encoded data removed]",
            "text/plain": [
              "<Figure size 720x360 with 1 Axes>"
            ]
          },
          "metadata": {
            "needs_background": "light"
          }
        },
        {
          "output_type": "stream",
          "name": "stderr",
          "text": [
            "/usr/local/lib/python3.7/dist-packages/ipykernel_launcher.py:2: RuntimeWarning: invalid value encountered in sqrt\n",
            "  \n",
            "/usr/local/lib/python3.7/dist-packages/ipykernel_launcher.py:18: RuntimeWarning: invalid value encountered in sqrt\n"
          ]
        },
        {
          "output_type": "display_data",
          "data": {
            "image/png": "[encoded data removed]",
            "text/plain": [
              "<Figure size 720x360 with 1 Axes>"
            ]
          },
          "metadata": {
            "needs_background": "light"
          }
        },
        {
          "output_type": "stream",
          "name": "stderr",
          "text": [
            "/usr/local/lib/python3.7/dist-packages/ipykernel_launcher.py:18: RuntimeWarning: invalid value encountered in sqrt\n",
            "/usr/local/lib/python3.7/dist-packages/ipykernel_launcher.py:2: RuntimeWarning: invalid value encountered in sqrt\n",
            "  \n"
          ]
        },
        {
          "output_type": "display_data",
          "data": {
            "image/png": "[encoded data removed]",
            "text/plain": [
              "<Figure size 720x360 with 1 Axes>"
            ]
          },
          "metadata": {
            "needs_background": "light"
          }
        }
      ]
    },
    {
      "cell_type": "code",
      "metadata": {
        "id": "R0-ifZ8ap9tL"
      },
      "source": [
        ""
      ],
      "execution_count": null,
      "outputs": []
    }
  ]
}